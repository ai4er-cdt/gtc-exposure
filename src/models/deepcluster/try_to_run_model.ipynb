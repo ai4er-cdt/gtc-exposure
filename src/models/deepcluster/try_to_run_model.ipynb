{
 "cells": [
  {
   "cell_type": "code",
   "execution_count": 4,
   "metadata": {},
   "outputs": [],
   "source": [
    "import numpy as np\n",
    "#!pip3 install faiss-gpu\n",
    "import faiss"
   ]
  },
  {
   "cell_type": "code",
   "execution_count": 5,
   "metadata": {},
   "outputs": [],
   "source": [
    "DIR=\"/home/jovyan/gtc-exposure/data/\"\n",
    "ARCH=\"alexnet\"\n",
    "LR=0.05\n",
    "WD=-5\n",
    "K=10000\n",
    "WORKERS=12\n",
    "EXP='/home/jovyan/gtc-exposure/src/models/deepcluster/output/'"
   ]
  },
  {
   "cell_type": "raw",
   "metadata": {},
   "source": [
    "!python3 main.py ${DIR} --exp ${EXP} --arch ${ARCH} \\\n",
    "  --lr ${LR} --wd ${WD} --k ${K} --sobel --verbose --workers ${WORKERS}"
   ]
  },
  {
   "cell_type": "code",
   "execution_count": 10,
   "metadata": {},
   "outputs": [
    {
     "name": "stdout",
     "output_type": "stream",
     "text": [
      "Traceback (most recent call last):\n",
      "  File \"main.py\", line 331, in <module>\n",
      "    main(args)\n",
      "  File \"main.py\", line 158, in main\n",
      "    clustering_loss = deepcluster.cluster(features, verbose=args.verbose)\n",
      "  File \"/home/jovyan/gtc-exposure/src/models/deepcluster/clustering.py\", line 208, in cluster\n",
      "    xb = preprocess_features(data)\n",
      "  File \"/home/jovyan/gtc-exposure/src/models/deepcluster/clustering.py\", line 89, in preprocess_features\n",
      "    mat.train(npdata)\n",
      "  File \"/opt/conda/lib/python3.7/site-packages/faiss/__init__.py\", line 344, in replacement_vt_train\n",
      "    self.train_c(n, swig_ptr(x))\n",
      "  File \"/opt/conda/lib/python3.7/site-packages/faiss/swigfaiss.py\", line 1752, in train\n",
      "    return _swigfaiss.PCAMatrix_train(self, n, x)\n",
      "RuntimeError: Error in void faiss::PCAMatrix::prepare_Ab() at /__w/faiss-wheels/faiss-wheels/faiss/faiss/VectorTransform.cpp:514: Error: 'd_out * d_in <= PCAMat.size()' failed: PCA matrix cannot output 256 dimensions from 4096 \n"
     ]
    }
   ],
   "source": [
    "#using default perameters\n",
    "!python3 main.py {DIR} --exp {EXP}"
   ]
  },
  {
   "cell_type": "code",
   "execution_count": null,
   "metadata": {},
   "outputs": [],
   "source": []
  }
 ],
 "metadata": {
  "kernelspec": {
   "display_name": "Python 3",
   "language": "python",
   "name": "python3"
  },
  "language_info": {
   "codemirror_mode": {
    "name": "ipython",
    "version": 3
   },
   "file_extension": ".py",
   "mimetype": "text/x-python",
   "name": "python",
   "nbconvert_exporter": "python",
   "pygments_lexer": "ipython3",
   "version": "3.7.8"
  }
 },
 "nbformat": 4,
 "nbformat_minor": 4
}
