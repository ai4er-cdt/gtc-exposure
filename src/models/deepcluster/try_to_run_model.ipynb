{
 "cells": [
  {
   "cell_type": "code",
   "execution_count": 1,
   "metadata": {},
   "outputs": [],
   "source": [
    "import numpy as np\n",
    "#!pip3 install faiss-gpu\n",
    "import faiss"
   ]
  },
  {
   "cell_type": "code",
   "execution_count": 2,
   "metadata": {},
   "outputs": [],
   "source": [
    "DIR=\"/home/jovyan/gtc-exposure/data/\"\n",
    "ARCH=\"alexnet\"\n",
    "LR=0.05\n",
    "WD=-5\n",
    "K=10000\n",
    "WORKERS=12\n",
    "EXP='/home/jovyan/gtc-exposure/src/models/deepcluster/output/'"
   ]
  },
  {
   "cell_type": "raw",
   "metadata": {},
   "source": [
    "!python3 main.py ${DIR} --exp ${EXP} --arch ${ARCH} \\\n",
    "  --lr ${LR} --wd ${WD} --k ${K} --sobel --verbose --workers ${WORKERS}"
   ]
  },
  {
   "cell_type": "code",
   "execution_count": 3,
   "metadata": {},
   "outputs": [
    {
     "name": "stdout",
     "output_type": "stream",
     "text": [
      "WARNING clustering 12 points to 2 centroids: please provide at least 78 training points\n",
      "Traceback (most recent call last):\n",
      "  File \"main.py\", line 331, in <module>\n",
      "    main(args)\n",
      "  File \"main.py\", line 158, in main\n",
      "    clustering_loss = deepcluster.cluster(features, verbose=args.verbose)\n",
      "  File \"/home/jovyan/gtc-exposure/src/models/deepcluster/clustering.py\", line 212, in cluster\n",
      "    I, loss = run_kmeans(xb, self.k, verbose)\n",
      "  File \"/home/jovyan/gtc-exposure/src/models/deepcluster/clustering.py\", line 180, in run_kmeans\n",
      "    losses = faiss.vector_to_array(clus.obj)\n",
      "AttributeError: 'Clustering' object has no attribute 'obj'\n"
     ]
    }
   ],
   "source": [
    "#using default perameters\n",
    "!python3 main.py {DIR} --exp {EXP} --nmb_cluster 2"
   ]
  },
  {
   "cell_type": "code",
   "execution_count": null,
   "metadata": {},
   "outputs": [],
   "source": []
  }
 ],
 "metadata": {
  "kernelspec": {
   "display_name": "Python 3",
   "language": "python",
   "name": "python3"
  },
  "language_info": {
   "codemirror_mode": {
    "name": "ipython",
    "version": 3
   },
   "file_extension": ".py",
   "mimetype": "text/x-python",
   "name": "python",
   "nbconvert_exporter": "python",
   "pygments_lexer": "ipython3",
   "version": "3.7.8"
  }
 },
 "nbformat": 4,
 "nbformat_minor": 4
}
