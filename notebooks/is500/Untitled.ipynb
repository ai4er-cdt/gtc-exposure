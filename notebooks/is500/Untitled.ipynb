{
 "cells": [
  {
   "cell_type": "code",
   "execution_count": 1,
   "metadata": {},
   "outputs": [],
   "source": [
    "import osmnx as ox\n",
    "import matplotlib.pyplot as plt\n",
    "import geopandas\n",
    "import json\n",
    "import shapely\n",
    "from shapely.geometry import Polygon, MultiPolygon\n",
    "\n",
    "import create_geojson"
   ]
  },
  {
   "cell_type": "code",
   "execution_count": 2,
   "metadata": {},
   "outputs": [],
   "source": [
    "geometry = Polygon([[0.09531154341089199,52.21330843453477], \n",
    "[0.14114513105737636,52.21530682782681], \n",
    "[0.1332487077175326,52.19237249192721], \n",
    "[0.09582652754175136,52.18963641408839], \n",
    "[0.09170665449487636,52.20878542299982], \n",
    "[0.09531154341089199,52.21330843453477]])\n",
    "        \n",
    "create_geojson.create_geojson(geometry, 'cantab')"
   ]
  },
  {
   "cell_type": "code",
   "execution_count": null,
   "metadata": {},
   "outputs": [],
   "source": []
  }
 ],
 "metadata": {
  "kernelspec": {
   "display_name": "Python 3",
   "language": "python",
   "name": "python3"
  },
  "language_info": {
   "codemirror_mode": {
    "name": "ipython",
    "version": 3
   },
   "file_extension": ".py",
   "mimetype": "text/x-python",
   "name": "python",
   "nbconvert_exporter": "python",
   "pygments_lexer": "ipython3",
   "version": "3.7.8"
  }
 },
 "nbformat": 4,
 "nbformat_minor": 4
}
