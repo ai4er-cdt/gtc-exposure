{
 "cells": [
  {
   "cell_type": "code",
   "execution_count": 37,
   "metadata": {},
   "outputs": [],
   "source": [
    "import numpy as np\n",
    "import os\n",
    "import tifffile\n",
    "import matplotlib.pyplot as plt\n",
    "import matplotlib.image as mpimg\n",
    "%matplotlib inline\n",
    "\n",
    "from PIL import Image\n",
    "from sklearn.ensemble import RandomForestClassifier"
   ]
  },
  {
   "cell_type": "markdown",
   "metadata": {},
   "source": [
    "## Load in the images and generate the training data"
   ]
  },
  {
   "cell_type": "code",
   "execution_count": 62,
   "metadata": {},
   "outputs": [
    {
     "name": "stdout",
     "output_type": "stream",
     "text": [
      "(20480, 10)\n",
      "(20480,)\n"
     ]
    }
   ],
   "source": [
    "data_dir = \"classifier_data/\"\n",
    "image_dir = data_dir + \"sentinel_raster_maps/\"\n",
    "target_dir = data_dir + \"target_raster_maps/\"\n",
    "\n",
    "no_images = len(list(filter(lambda x:x.endswith('.tiff') or x.endswith('.tif'), os.listdir(image_dir))))\n",
    "    \n",
    "no_targets = len(list(filter(lambda x:x.endswith('.tiff') or x.endswith('.tif'), os.listdir(target_dir))))\n",
    "\n",
    "assert no_images == no_targets\n",
    "\n",
    "no_images-=1\n",
    "no_targets-=1\n",
    "\n",
    "images = []\n",
    "targets = []\n",
    "\n",
    "shp = tifffile.imread(\"{}image_{}.tiff\".format(image_dir, \"0\")).shape\n",
    "tilesize = shp[0]\n",
    "no_bands = shp[2]\n",
    "\n",
    "X = np.empty((tilesize**2*no_images, no_bands))\n",
    "y = np.empty(tilesize**2*no_images)\n",
    "\n",
    "for i in range(no_images):\n",
    "    #Sentinel band (image) raster - X\n",
    "    image_data = tifffile.imread(\"{}image_{}.tiff\".format(image_dir, i))\n",
    "    images.append(image_data)\n",
    "    \n",
    "    X[i*tilesize**2:(i+1)*tilesize**2, :] = np.reshape(image_data, (tilesize**2, no_bands))\n",
    "    \n",
    "    #Target raster - y\n",
    "    target = Image.open(\"{}target_{}.tiff\".format(target_dir, i))\n",
    "    #print(np.array(target.getdata()).shape)\n",
    "    targets.append(np.reshape(list(target.getdata()), (tilesize, tilesize)))\n",
    "    \n",
    "    y[i*tilesize**2:(i+1)*tilesize**2] = np.array(target.getdata())\n",
    "    \n",
    "y = y.astype(int)\n",
    "    \n",
    "print(X.shape)\n",
    "print(y.shape)"
   ]
  },
  {
   "cell_type": "markdown",
   "metadata": {},
   "source": [
    "## Plot some samples"
   ]
  },
  {
   "cell_type": "code",
   "execution_count": 63,
   "metadata": {},
   "outputs": [
    {
     "data": {
      "text/plain": [
       "<matplotlib.image.AxesImage at 0x7f2f4e378790>"
      ]
     },
     "execution_count": 63,
     "metadata": {},
     "output_type": "execute_result"
    },
    {
     "data": {
      "image/png": "[encoded data removed]",
      "text/plain": [
       "<Figure size 432x288 with 1 Axes>"
      ]
     },
     "metadata": {
      "needs_background": "light"
     },
     "output_type": "display_data"
    }
   ],
   "source": [
    "a_target = Image.open('{}/target_5.tiff'.format(target_dir)) #tifffile complains about codecs if you try to use that here\n",
    "target_pixel_data = np.reshape(list(a_target.getdata()), (64,64))\n",
    "plt.imshow(target_pixel_data)"
   ]
  },
  {
   "cell_type": "code",
   "execution_count": 64,
   "metadata": {},
   "outputs": [
    {
     "name": "stdout",
     "output_type": "stream",
     "text": [
      "(64, 64, 10)\n"
     ]
    },
    {
     "data": {
      "text/plain": [
       "<matplotlib.image.AxesImage at 0x7f2f4e84ae90>"
      ]
     },
     "execution_count": 64,
     "metadata": {},
     "output_type": "execute_result"
    },
    {
     "data": {
      "image/png": "[encoded data removed]",
      "text/plain": [
       "<Figure size 432x288 with 1 Axes>"
      ]
     },
     "metadata": {
      "needs_background": "light"
     },
     "output_type": "display_data"
    }
   ],
   "source": [
    "a_image = tifffile.imread('{}/image_5.tiff'.format(image_dir))\n",
    "print(a_image.shape)\n",
    "image_pixel_data = a_image[:,:,0:3] #RGB Selected as bands 1:3\n",
    "plt.imshow(image_pixel_data)"
   ]
  },
  {
   "cell_type": "markdown",
   "metadata": {},
   "source": [
    "## Train a random forest classifier"
   ]
  },
  {
   "cell_type": "code",
   "execution_count": 91,
   "metadata": {},
   "outputs": [
    {
     "data": {
      "text/plain": [
       "RandomForestClassifier(bootstrap=True, ccp_alpha=0.0, class_weight=None,\n",
       "                       criterion='gini', max_depth=None, max_features='auto',\n",
       "                       max_leaf_nodes=None, max_samples=None,\n",
       "                       min_impurity_decrease=0.0, min_impurity_split=None,\n",
       "                       min_samples_leaf=1, min_samples_split=2,\n",
       "                       min_weight_fraction_leaf=0.0, n_estimators=100,\n",
       "                       n_jobs=None, oob_score=False, random_state=0, verbose=0,\n",
       "                       warm_start=False)"
      ]
     },
     "execution_count": 91,
     "metadata": {},
     "output_type": "execute_result"
    }
   ],
   "source": [
    "rf_classifier = RandomForestClassifier(random_state = 0)\n",
    "rf_classifier.fit(X, y)"
   ]
  },
  {
   "cell_type": "code",
   "execution_count": 92,
   "metadata": {},
   "outputs": [
    {
     "name": "stderr",
     "output_type": "stream",
     "text": [
      "/opt/conda/lib/python3.7/site-packages/sklearn/ensemble/_forest.py:704: RuntimeWarning: divide by zero encountered in log\n",
      "  return np.log(proba)\n"
     ]
    }
   ],
   "source": [
    "test_image = np.array(tifffile.imread('{}/image_5.tiff'.format(image_dir)))\n",
    "test_X = np.reshape(test_image, (tilesize**2, no_bands))\n",
    "test_y = rf_classifier.predict_log_proba(test_X)"
   ]
  },
  {
   "cell_type": "code",
   "execution_count": 93,
   "metadata": {},
   "outputs": [
    {
     "data": {
      "text/plain": [
       "<matplotlib.image.AxesImage at 0x7f2f4dc93dd0>"
      ]
     },
     "execution_count": 93,
     "metadata": {},
     "output_type": "execute_result"
    },
    {
     "data": {
      "image/png": "[encoded data removed]",
      "text/plain": [
       "<Figure size 432x288 with 1 Axes>"
      ]
     },
     "metadata": {
      "needs_background": "light"
     },
     "output_type": "display_data"
    }
   ],
   "source": [
    "test_target_out = np.reshape(test_y, (tilesize, tilesize, 2))\n",
    "plt.imshow(test_target_out[:,:,0])"
   ]
  },
  {
   "cell_type": "code",
   "execution_count": 94,
   "metadata": {},
   "outputs": [
    {
     "data": {
      "text/plain": [
       "array([[-0.01005034, -4.60517019],\n",
       "       [-0.07257069, -2.65926004],\n",
       "       [-0.01005034, -4.60517019],\n",
       "       ...,\n",
       "       [-0.15082289, -1.96611286],\n",
       "       [-0.0618754 , -2.81341072],\n",
       "       [-0.30110509, -1.34707365]])"
      ]
     },
     "execution_count": 94,
     "metadata": {},
     "output_type": "execute_result"
    }
   ],
   "source": [
    "test_y"
   ]
  },
  {
   "cell_type": "code",
   "execution_count": null,
   "metadata": {},
   "outputs": [],
   "source": []
  }
 ],
 "metadata": {
  "kernelspec": {
   "display_name": "Python 3",
   "language": "python",
   "name": "python3"
  },
  "language_info": {
   "codemirror_mode": {
    "name": "ipython",
    "version": 3
   },
   "file_extension": ".py",
   "mimetype": "text/x-python",
   "name": "python",
   "nbconvert_exporter": "python",
   "pygments_lexer": "ipython3",
   "version": "3.7.8"
  }
 },
 "nbformat": 4,
 "nbformat_minor": 4
}