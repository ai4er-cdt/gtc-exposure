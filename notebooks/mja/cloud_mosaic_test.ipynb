{
 "cells": [
  {
   "cell_type": "code",
   "execution_count": 1,
   "metadata": {},
   "outputs": [],
   "source": [
    "# import packages\n",
    "import IPython\n",
    "import ipywidgets\n",
    "import ipyleaflet\n",
    "import json\n",
    "import matplotlib.pyplot as plt\n",
    "import matplotlib.image as mpimg\n",
    "%matplotlib inline\n",
    "import numpy as np\n",
    "import random\n",
    "import os\n",
    "import tensorflow as tf\n",
    "\n",
    "import descarteslabs as dl\n",
    "import descarteslabs.workflows as wf"
   ]
  },
  {
   "cell_type": "markdown",
   "metadata": {},
   "source": [
    "### Create Geocontext (Currently not actually using any of this except the dates)\n",
    "I was originally aiming to only compute the resulting mosaic over the AOI only using the geocontext but I binned it in the end and just let the interactive map constrain it to the AOI. Might be worth looking into further"
   ]
  },
  {
   "cell_type": "code",
   "execution_count": 2,
   "metadata": {},
   "outputs": [],
   "source": [
    "with open(\"aoi_small_train.geojson\") as f:\n",
    "    fc = json.load(f)\n",
    "    \n",
    "aoi_geo = fc[\"features\"][0][\"geometry\"]\n",
    "\n",
    "aoi = wf.GeoContext(\n",
    "    geometry = aoi_geo,\n",
    "    crs=\"EPSG:3857\",\n",
    "    resolution = 10.0)\n",
    "\n",
    "start_datetime = \"2020-04-01\"\n",
    "end_datetime = \"2020-07-28\""
   ]
  },
  {
   "cell_type": "markdown",
   "metadata": {},
   "source": [
    "### Sentinel 2 stack w/ cloud mask\n",
    "Using whatever bands you like"
   ]
  },
  {
   "cell_type": "code",
   "execution_count": 3,
   "metadata": {},
   "outputs": [],
   "source": [
    "sentinel_stack = (wf.ImageCollection.from_id(\"sentinel-2:L1C\",\n",
    "                                            start_datetime = start_datetime,\n",
    "                                            end_datetime = end_datetime)\n",
    "                  .pick_bands(\"red green blue cloud-mask red-edge-2 red-edge-3 red-edge-4 nir swir1 swir2\")\n",
    "                 )\n",
    "\n",
    "sentinel_stack = sentinel_stack.filter(lambda img:img.properties[\"cloud_fraction\"] <= 0.06)\n",
    "\n",
    "sentinel_masked = sentinel_stack.map(lambda img: img.mask(img.pick_bands('cloud-mask')==1))"
   ]
  },
  {
   "cell_type": "markdown",
   "metadata": {},
   "source": [
    "### Create the image mosaic and compute over the AOI "
   ]
  },
  {
   "cell_type": "code",
   "execution_count": 4,
   "metadata": {},
   "outputs": [],
   "source": [
    "sentinel_mosaic = (sentinel_masked\n",
    "                   .mosaic()\n",
    "                   .pick_bands(\"red green blue\"))\n",
    "\n",
    "#sentinel_image = sentinel_mosaic.compute(aoi)"
   ]
  },
  {
   "cell_type": "markdown",
   "metadata": {},
   "source": [
    "## Visualise the image\n",
    "I think it looks pretty good, but there's room for improvement. Zoom out to see where it's not great (outside the city)"
   ]
  },
  {
   "cell_type": "code",
   "execution_count": 5,
   "metadata": {},
   "outputs": [
    {
     "data": {
      "application/vnd.jupyter.widget-view+json": {
       "model_id": "0beb88a372d4468db5c6f4b6c6225052",
       "version_major": 2,
       "version_minor": 0
      },
      "text/plain": [
       "\n",
       "`ipyleaflet` and/or `ipywidgets` Jupyter extensions are not installed! (or you're not in a Jupyter notebook.)\n",
       "To install for JupyterLab, run this in a cell:\n",
       "    !jupyter labextension install jupyter-leaflet @jupyter-widgets/jupyterlab-manager\n",
       "To install for plain Jupyter Notebook, run this in a cell:\n",
       "    !jupyter nbextension enable --py --sys-prefix ipyleaflet\n",
       "Then, restart the kernel and refresh the webpage.\n"
      ]
     },
     "metadata": {},
     "output_type": "display_data"
    }
   ],
   "source": [
    "a_map = wf.interactive.MapApp()\n",
    "a_map.center = (18.5265, -69.9129)\n",
    "a_map.zoom = 15\n",
    "\n",
    "sentinel_mosaic.visualize('image', scales=[(0, 1), (0, 1), (0, 1)], map=a_map)\n",
    "\n",
    "a_map"
   ]
  }
 ],
 "metadata": {
  "kernelspec": {
   "display_name": "Python 3",
   "language": "python",
   "name": "python3"
  },
  "language_info": {
   "codemirror_mode": {
    "name": "ipython",
    "version": 3
   },
   "file_extension": ".py",
   "mimetype": "text/x-python",
   "name": "python",
   "nbconvert_exporter": "python",
   "pygments_lexer": "ipython3",
   "version": "3.7.8"
  }
 },
 "nbformat": 4,
 "nbformat_minor": 4
}
