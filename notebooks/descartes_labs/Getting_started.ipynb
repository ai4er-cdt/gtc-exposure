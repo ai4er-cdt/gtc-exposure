{
 "cells": [
  {
   "cell_type": "markdown",
   "metadata": {},
   "source": [
    "# Getting Started "
   ]
  },
  {
   "cell_type": "markdown",
   "metadata": {},
   "source": [
    "## Objective: Find a place, search for imagery, and rasterize it.\n",
    "\n",
    "This tutorial demonstrates a few of the basic APIs in the Descartes Labs Platform. We’ll start by figuring out where we want to look. This will utilize the Places functionality. From there, we’ll briefly cover how to search for products using the Metadata API and what a GeospatialContext is. Next, we will demonstrate how to search for products and filter imagery using the Scenes API. Finally, we’ll rasterize the available imagery into a numpy array and display it using their built in methods."
   ]
  },
  {
   "cell_type": "code",
   "execution_count": 19,
   "metadata": {},
   "outputs": [],
   "source": [
    "#Only run this cell if running the notebook on the JASMIN Notebook Server\n",
    "import activate_venv"
   ]
    "tags": [
     "hide-output",
   ]
  },
  {
   "cell_type": "markdown",
   "metadata": {},
   "source": [
    "If prompted above, log in to [IAM](https://iam.descarteslabs.com/auth/login?refresh_token=true&destination=/auth/refresh_token)."
   ]
  },
  {
   "cell_type": "code",
   "execution_count": 1,
   "metadata": {},
   "outputs": [
    {
     "output_type": "stream",
     "name": "stdout",
     "text": [
      "descarteslabs location: /home/ira/.local/lib/python3.8/site-packages/descarteslabs/__init__.py\n"
     ]
    }
   ],
   "source": [
    "import matplotlib.pyplot as plt\n",
    "import descarteslabs as dl\n",
    "#to see where the package file is located\n",
    "print('descarteslabs location:', dl.__file__)"
   ]
  },
  {
   "cell_type": "markdown",
   "metadata": {},
   "source": [
    "So you now have access to a giant archive of imagery. First question is – where do you want to look? You might answer this question in many ways, but one of the ways we can help is by providing mechanisms to find shapes of known places. Our Places API has a find method that does fuzzy-matching searches of places. As an example, let’s try to find Taos, New Mexico (a favorite place for Cartesians to go hiking, biking, camping, and skiing). "
   ]
  },
  {
   "cell_type": "code",
   "execution_count": null,
   "metadata": {},
   "outputs": [],
   "source": [
    "# Find potential matches\n",
    "matches = dl.places.find('new-mexico_taos')\n",
    "matches"
   ]
  },
  {
   "cell_type": "code",
   "execution_count": null,
   "metadata": {},
   "outputs": [],
   "source": [
    "# The first one looks good to me, so lets make that our area of interest.\n",
    "aoi = matches[0]"
   ]
  },
  {
   "cell_type": "code",
   "execution_count": null,
   "metadata": {},
   "outputs": [],
   "source": [
    "# This area of interest just gives us some basic properties such as bounding boxes.\n",
    "# To access a GeoJSON Geometry object of that place, we call the `Places.shape` method, in this case\n",
    "# accessing a low-resolution version of this particular shape.\n",
    "shape = dl.places.shape(aoi['slug'], geom='low')"
   ]
  },
  {
   "cell_type": "markdown",
   "metadata": {},
   "source": [
    "If our Places API does not have the boundary you need, or you are working with a unique geometry, you can use your own custom GeoJSON shapes with the rest of our APIs seamlessly. "
   ]
  },
  {
   "cell_type": "markdown",
   "metadata": {},
   "source": [
    "## Searching for available imagery \n",
    "The Descartes Labs platform pulls together data from over 75 different sources. We call each of these distinct offerings products, and they all have their own unique IDs. Even derived or external data you save into the platform has a product ID. The first parameter when searching for data is a list of product IDs to specify what kind of imagery you want returned. \n",
    "To view products you have access to, you can use the [catalog interface](https://catalog.descarteslabs.com/) which allows you to search our products and displays all their metadata information including details about spectral bands, classes, lifespan, and more. You can get back all the same information programmatically using the Catalog API. "
   ]
  },
  {
   "cell_type": "code",
   "execution_count": null,
   "metadata": {},
   "outputs": [],
   "source": [
    "from descarteslabs.catalog import Product, Band\n",
    "\n",
    "# Return all the products you have access to\n",
    "products = Product.search() \n",
    "print(\"I currently have access to {} products. Some of these may not be publically available.\".format(products.count()))"
   ]
  },
  {
   "cell_type": "code",
   "execution_count": null,
   "metadata": {},
   "outputs": [],
   "source": [
    "# Look up a product and get back all its band names \n",
    "product = Product.get('landsat:LC08:PRE:TOAR')\n",
    "bands = product.bands()\n",
    "[band.name for band in bands]"
   ]
  },
  {
   "cell_type": "markdown",
   "metadata": {},
   "source": [
    "## Lets find some Landsat 8 imagery over our AOI using the Scenes API\n",
    "There are two ways to search for and obtain data: the Scenes API, or a combination of the Metadata API and Raster APIs. The Scenes API handles the details of scaling, clipping, resolution, coordinate systems, and no data values through a paradigm we call a GeospatialContext, while the latter requires more knowledge of the imagery you are requesting. We will focus on the Scenes API for the remainder of this tutorial. "
   ]
  },
  {
   "cell_type": "code",
   "execution_count": null,
   "metadata": {},
   "outputs": [],
   "source": [
    "# Create a SceneCollection matching our search criteria and view its summary\n",
    "scenes, ctx = dl.scenes.search(shape['geometry'],\n",
    "                    products=\"landsat:LC08:01:RT:TOAR\",\n",
    "                    start_datetime=\"2017-11-01\",\n",
    "                    end_datetime=\"2018-07-01\",\n",
    "#                     cloud_fraction=0.7,\n",
    "                    limit=500\n",
    "                   )\n",
    "scenes"
   ]
  },
  {
   "cell_type": "markdown",
   "metadata": {},
   "source": [
    "## Inspect the GeospatialContext of the SceneCollection \n",
    "When a SceneCollection is created, an associated GeospatialContext is instantiated which intelligently sets defaults for rasterizing the imagery. This includes: \n",
    "* Cutline/bounds\n",
    "* Resolution\n",
    "* CRS\n",
    "* Target Align Pixels\n",
    "\n",
    "A GeospatialContext is immutable, but you can overwrite the default values by creating a new context as demonstrated below. "
   ]
  },
  {
   "cell_type": "code",
   "execution_count": null,
   "metadata": {},
   "outputs": [],
   "source": [
    "# View the context of our SceneCollection\n",
    "ctx"
   ]
  },
  {
   "cell_type": "code",
   "execution_count": null,
   "metadata": {},
   "outputs": [],
   "source": [
    "# Create a copy of the original context, and set the resolution to 120m.\n",
    "highres_context = ctx.assign(resolution=120)"
   ]
  },
  {
   "cell_type": "markdown",
   "metadata": {},
   "source": [
    "The Scenes API uses Shapely under the hood. This means you have accesss to all the Shapely functionality such as plotting the geometry."
   ]
  },
  {
   "cell_type": "code",
   "execution_count": null,
   "metadata": {},
   "outputs": [],
   "source": [
    "# Plot the shape of Taos inline using the geometry method. \n",
    "ctx.geometry"
   ]
  },
  {
   "cell_type": "markdown",
   "metadata": {},
   "source": [
    "## Display a single image\n",
    "\n",
    "The original Scene Collection has 41 Scenes, though no single Scene has data covering our entire AOI. Before we mosaic the data, let's take a look at a single scene, accessing its data in the form of an ndarray."
   ]
  },
  {
   "cell_type": "code",
   "execution_count": null,
   "metadata": {},
   "outputs": [],
   "source": [
    "# Pick a Scene that has more than a sliver of data within our AOI.\n",
    "scene = scenes[16]"
   ]
  },
  {
   "cell_type": "code",
   "execution_count": null,
   "metadata": {},
   "outputs": [],
   "source": [
    "# A Scene or SceneCollection only contains the Metadata for the imagery\n",
    "# We have to use another method to get the data back, in this case, the ndarray method\n",
    "# Note that we are passing in the high resolution GeospatialContext\n",
    "arr = scene.ndarray(\"red green blue\", highres_context)\n",
    "dl.scenes.display(arr, title=\"Partial Coverage\")"
   ]
  },
  {
   "cell_type": "markdown",
   "metadata": {},
   "source": [
    "## Create a mosaic of the SceneCollection\n",
    "\n",
    "Now that we understand what a single Scene is, let's take a look at the SceneCollection. We know a single image provides insufficient data for our AOI. The image above is missing data in the upper right hand corner of the shape. The built in method mosaic will give us complete coverage. It returns a single masked array containing both the spectral data requested and the mask for no data values. "
   ]
  },
  {
   "cell_type": "code",
   "execution_count": null,
   "metadata": {},
   "outputs": [],
   "source": [
    "# Request a mosaic of data containing the red green and blue bands\n",
    "mosaic = scenes.mosaic(\"red green blue\", highres_context)\n",
    "dl.scenes.display(mosaic, title=\"Taos Mosaic\")"
   ]
  },
  {
   "cell_type": "markdown",
   "metadata": {},
   "source": [
    "## Create a cloud free composite\n",
    "\n",
    "The mosaic function simply takes the last valid data value for any given pixel location, sometimes resulting in cloudy or less than expected results as seen above. One way to avoid this, is using the built in stack method and NumPy median method. A call to stack returns each Image's data and no data alpha mask seperately within a single masked array. We can then use the NumPy median method to create a composite free of clouds and other irregularities. "
   ]
  },
  {
   "cell_type": "code",
   "execution_count": null,
   "metadata": {},
   "outputs": [],
   "source": [
    "# Request a stack of data containing the red green and blue bands.\n",
    "stack = scenes.stack(\"red green blue\", highres_context)\n",
    "print(\"The stack method returns a {} containing the data for the same {} Scenes returned by the search method above.\".format(type(stack),len(stack)))"
   ]
  },
  {
   "cell_type": "code",
   "execution_count": null,
   "metadata": {},
   "outputs": [],
   "source": [
    "# We import the NumPy library so we can call the median method on our masked array to produce the final dataset\n",
    "import numpy as np\n",
    "composite = np.ma.median(stack, axis=0)\n",
    "dl.scenes.display(composite, title=\"Taos Composite\")"
   ]
  },
  {
   "cell_type": "markdown",
   "metadata": {},
   "source": [
    "Of course, you can work with any number of bands available for analysis and visualization. To complete the tutorial, let's use the same process to display a false color image. Areas that appear red indicate healthy vegetation."
   ]
  },
  {
   "cell_type": "code",
   "execution_count": null,
   "metadata": {},
   "outputs": [],
   "source": [
    "false_color_stack = scenes.stack(\"nir swir1 swir2\", highres_context)"
   ]
  },
  {
   "cell_type": "code",
   "execution_count": null,
   "metadata": {},
   "outputs": [],
   "source": [
    "composite = np.ma.median(false_color_stack, axis=0)\n",
    "dl.scenes.display(composite, title=\"Taos Infrared Composite\")"
   ]
  }
 ],
 "metadata": {
  "kernelspec": {
   "name": "Python 3.8.5 64-bit",
   "display_name": "Python 3.8.5 64-bit",
   "metadata": {
    "interpreter": {
     "hash": "31f2aee4e71d21fbe5cf8b01ff0e069b9275f58929596ceb00d14d90e3e16cd6"
    }
   }
  },
  "language_info": {
   "codemirror_mode": {
    "name": "ipython",
    "version": 3
   },
   "file_extension": ".py",
   "mimetype": "text/x-python",
   "name": "python",
   "nbconvert_exporter": "python",
   "pygments_lexer": "ipython3",
   "version": "3.8.5-final"
  }
 },
 "nbformat": 4,
 "nbformat_minor": 4
}
