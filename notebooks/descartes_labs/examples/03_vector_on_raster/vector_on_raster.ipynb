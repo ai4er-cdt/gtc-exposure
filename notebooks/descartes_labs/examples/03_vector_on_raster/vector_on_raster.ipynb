{
 "cells": [
  {
   "cell_type": "markdown",
   "metadata": {},
   "source": [
    "# Vector + Raster\n",
    "In this notebook we will combine the Descartes Labs `Workflows` and `Vector` APIs to build an interactive map to **query and visualize building footprints**.  In the map below, you can draw a custom AOI anywhere in the United States, and we fetch and display the local building footprints on top of NAIP imagery.\n",
    "\n",
    "You can run the following cells using `Shift-Enter`."
   ]
  },
  {
   "cell_type": "markdown",
   "metadata": {},
   "source": [
    "## Import packages"
   ]
  },
  {
   "cell_type": "code",
   "execution_count": null,
   "metadata": {},
   "outputs": [],
   "source": [
    "# keep logging quiet\n",
    "import logging\n",
    "logging.getLogger().setLevel(logging.INFO)\n",
    "logging.captureWarnings(True)"
   ]
  },
  {
   "cell_type": "code",
   "execution_count": null,
   "metadata": {},
   "outputs": [],
   "source": [
    "# import packages\n",
    "import descarteslabs as dl\n",
    "import descarteslabs.workflows as wf\n",
    "import ipyleaflet\n",
    "import ipywidgets\n",
    "from shapely.geometry import shape"
   ]
  },
  {
   "cell_type": "markdown",
   "metadata": {},
   "source": [
    "## Specify the NAIP imagery that we'll use as our base layer."
   ]
  },
  {
   "cell_type": "code",
   "execution_count": null,
   "metadata": {},
   "outputs": [],
   "source": [
    "start_datetime = \"2015-01-01\"\n",
    "end_datetime = \"2019-01-01\"\n",
    "naip = wf.ImageCollection.from_id('usda:naip:rgbn:v1', start_datetime=start_datetime, end_datetime=end_datetime).pick_bands(\"red green blue\")"
   ]
  },
  {
   "cell_type": "markdown",
   "metadata": {},
   "source": [
    "## Specify the vector product that we will search.\n",
    "We're going to display building footprints from the [Microsoft US Building Footprints database](https://github.com/microsoft/USBuildingFootprints).  This database is made available under the [Open Database License](http://opendatacommons.org/licenses/odbl/1.0/). Any rights in individual contents of the database are licensed under the [Database Contents License](http://opendatacommons.org/licenses/dbcl/1.0/)."
   ]
  },
  {
   "cell_type": "code",
   "execution_count": null,
   "metadata": {},
   "outputs": [],
   "source": [
    "vector_id = 'a35126a241bd022c026e96ab9fe5e0ea23967d08:USBuildingFootprints'\n",
    "FeatureCollection = dl.vectors.FeatureCollection(vector_id)"
   ]
  },
  {
   "cell_type": "markdown",
   "metadata": {},
   "source": [
    "## Initialize our Workflows map"
   ]
  },
  {
   "cell_type": "code",
   "execution_count": null,
   "metadata": {},
   "outputs": [],
   "source": [
    "m = wf.map\n",
    "naip.max(axis='images').visualize('NAIP', scales=[(0, 1), (0, 1), (0, 1)], map=m)\n",
    "m.map.center = 33.3666, -111.9696 # Phoenix\n",
    "m.map.zoom = 15"
   ]
  },
  {
   "cell_type": "markdown",
   "metadata": {},
   "source": [
    "## Define custom widget for interactive display of vector data on top of raster imagery"
   ]
  },
  {
   "cell_type": "code",
   "execution_count": null,
   "metadata": {},
   "outputs": [],
   "source": [
    "draw_control = ipyleaflet.DrawControl(\n",
    "    edit=False,\n",
    "    remove=False,\n",
    "    circlemarker={},\n",
    "    polyline={},\n",
    "    polygon={},\n",
    "    rectangle={\"shapeOptions\": {\n",
    "        \"fillColor\": \"#d534eb\",\n",
    "        \"color\": \"#d534eb\",\n",
    "        \"fillOpacity\": 0.2\n",
    "    }}\n",
    ")\n",
    "\n",
    "# put in a popup box in the corner\n",
    "output = ipywidgets.Output()\n",
    "output = wf.interactive.clearable.ClearableOutput(output)\n",
    "output_control = ipyleaflet.WidgetControl(\n",
    "    widget=output, position=\"bottomright\"\n",
    ")\n",
    "m.add_control(output_control)\n",
    "# get output object back\n",
    "output = output.children[0]\n",
    "\n",
    "@output.capture()\n",
    "def handle_hover(feature, **kwargs):\n",
    "    output.clear_output()\n",
    "    for key in sorted(feature['properties'].keys()):\n",
    "        print('{}: {}'.format(key, feature['properties'][key]))\n",
    "\n",
    "def query_features(geo_json):\n",
    "    # convert to geometry\n",
    "    print('Querying geometry {}'.format(geo_json['geometry']))\n",
    "    geometry = shape(geo_json['geometry'])\n",
    "    \n",
    "    # query vector\n",
    "    fs = FeatureCollection.filter(geometry=geometry).features()\n",
    "    print('Downloading {} features'.format(len(fs)))\n",
    "    features = [f for f in fs]\n",
    "    print('Found {} features'.format(len(features)))\n",
    "    \n",
    "    # turn into geojson FeatureCollection\n",
    "    fc = {'type': 'FeatureCollection',\n",
    "          'features': [f.geojson for f in features]}\n",
    "    return fc\n",
    "    \n",
    "    \n",
    "geojsons = []\n",
    "downloaded_features = []\n",
    "@m.output_log.capture()\n",
    "def handle_draw(other_self, action, geo_json):\n",
    "    if action == 'created':\n",
    "        data = query_features(geo_json)\n",
    "        geolayer = ipyleaflet.GeoJSON(data=data, hover_style={'fillOpacity': 0.5})\n",
    "        geolayer.on_hover(handle_hover)\n",
    "        downloaded_features.extend(data['features'])\n",
    "        m.add_layer(geolayer)\n",
    "        # delete the drawn polygon\n",
    "        other_self.clear()\n",
    "    elif action == 'deleted':\n",
    "        pass\n",
    "\n",
    "draw_control.on_draw(handle_draw)\n",
    "m.add_control(draw_control)"
   ]
  },
  {
   "cell_type": "markdown",
   "metadata": {},
   "source": [
    "## Finally, display and interact with the map\n",
    "You can draw a box anywhere in the contentinal US.  We'll filter the building footprints to those that lie within your AOI, and we'll display them on the map."
   ]
  },
  {
   "cell_type": "code",
   "execution_count": null,
   "metadata": {},
   "outputs": [],
   "source": [
    "m"
   ]
  }
 ],
 "metadata": {
  "kernelspec": {
   "display_name": "Python 3",
   "language": "python",
   "name": "python3"
  },
  "language_info": {
   "codemirror_mode": {
    "name": "ipython",
    "version": 3
   },
   "file_extension": ".py",
   "mimetype": "text/x-python",
   "name": "python",
   "nbconvert_exporter": "python",
   "pygments_lexer": "ipython3",
   "version": "3.7.6"
  }
 },
 "nbformat": 4,
 "nbformat_minor": 4
}
