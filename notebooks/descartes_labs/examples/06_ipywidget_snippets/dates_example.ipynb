{
 "cells": [
  {
   "cell_type": "markdown",
   "metadata": {},
   "source": [
    "# Date Input Widget\n",
    "\n",
    "Use Workflows [parameters](https://docs.descarteslabs.com/descarteslabs/workflows/docs/types/identifier.html#descarteslabs.workflows.types.identifier.parameter) to interactively pick the start and end dates for a max-NDVI composite.\n",
    "\n",
    "You can run the following cells using `Shift-Enter`."
   ]
  },
  {
   "cell_type": "code",
   "execution_count": null,
   "metadata": {},
   "outputs": [],
   "source": [
    "# keep logging quiet\n",
    "import logging; logging.getLogger().setLevel(logging.INFO); logging.captureWarnings(True)\n",
    "import datetime\n",
    "\n",
    "import ipyleaflet\n",
    "import ipywidgets\n",
    "\n",
    "import descarteslabs.workflows as wf"
   ]
  },
  {
   "cell_type": "code",
   "execution_count": null,
   "metadata": {},
   "outputs": [],
   "source": [
    "s2 = wf.ImageCollection.from_id(\n",
    "    \"sentinel-2:L1C\",\n",
    "    start_datetime=wf.parameter(\"begin\", wf.Datetime),\n",
    "    end_datetime=wf.parameter(\"end\", wf.Datetime),\n",
    ")\n",
    "\n",
    "# Filter clouds\n",
    "s2 = s2.filter(lambda img: img.properties[\"cloud_fraction_0\"] < 0.1)\n",
    "\n",
    "# Compute NDVI\n",
    "red, nir = s2.unpack_bands(\"red nir\")\n",
    "ndvi = (nir - red) / (nir + red)\n",
    "\n",
    "# Make NDVI max composite\n",
    "max_ndvi = ndvi.max(axis=\"images\")"
   ]
  },
  {
   "cell_type": "code",
   "execution_count": null,
   "metadata": {},
   "outputs": [],
   "source": [
    "lyr = max_ndvi.visualize(\n",
    "    name=\"S2 NDVI\",\n",
    "    scales=[(0, 1)],\n",
    "    colormap=\"viridis\",\n",
    "    begin=ipywidgets.DatePicker(value=datetime.date(2019, 1, 1)),\n",
    "    end=ipywidgets.DatePicker(value=datetime.date(2019, 2, 1)),\n",
    ")"
   ]
  },
  {
   "cell_type": "code",
   "execution_count": null,
   "metadata": {},
   "outputs": [],
   "source": [
    "control = ipyleaflet.WidgetControl(widget=lyr.parameters.widget, position='bottomleft')\n",
    "wf.map.add_control(control)"
   ]
  },
  {
   "cell_type": "code",
   "execution_count": null,
   "metadata": {},
   "outputs": [],
   "source": [
    "wf.map"
   ]
  }
 ],
 "metadata": {
  "kernelspec": {
   "display_name": "Python 3",
   "language": "python",
   "name": "python3"
  },
  "language_info": {
   "codemirror_mode": {
    "name": "ipython",
    "version": 3
   },
   "file_extension": ".py",
   "mimetype": "text/x-python",
   "name": "python",
   "nbconvert_exporter": "python",
   "pygments_lexer": "ipython3",
   "version": "3.7.4"
  }
 },
 "nbformat": 4,
 "nbformat_minor": 4
}
