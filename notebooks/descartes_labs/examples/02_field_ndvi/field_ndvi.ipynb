{
 "cells": [
  {
   "cell_type": "markdown",
   "metadata": {},
   "source": [
    "# Field-level NDVI Time Series\n",
    "In this notebook we will use Descartes Labs `Workflows` to build an interactive map to **query the time series of vegetative health for any field in the world**.  The field boundary is drawn by the user, and the NDVI time series from Sentinel-2 is returned.  This allows the user to assess **field-level vegetative health** or determine **crop planting patterns such as winter cover crops** in an interactive, visual way.\n",
    "\n",
    "You can run the following cells using `Shift-Enter`."
   ]
  },
  {
   "cell_type": "markdown",
   "metadata": {},
   "source": [
    "## Import packages"
   ]
  },
  {
   "cell_type": "code",
   "execution_count": null,
   "metadata": {},
   "outputs": [],
   "source": [
    "# keep logging quiet\n",
    "import logging\n",
    "logging.getLogger().setLevel(logging.INFO)\n",
    "logging.captureWarnings(True)"
   ]
  },
  {
   "cell_type": "code",
   "execution_count": null,
   "metadata": {},
   "outputs": [],
   "source": [
    "# import packages\n",
    "import descarteslabs.workflows as wf\n",
    "from field_ndvi import FieldNDVI"
   ]
  },
  {
   "cell_type": "markdown",
   "metadata": {},
   "source": [
    "## Define the _Sentinel-2_ imagery that will display on the map"
   ]
  },
  {
   "cell_type": "code",
   "execution_count": null,
   "metadata": {},
   "outputs": [],
   "source": [
    "s2 = wf.ImageCollection.from_id(\n",
    "    \"sentinel-2:L1C\", start_datetime=\"2018-03-01\", end_datetime=\"2018-04-01\"\n",
    ")\n",
    "\n",
    "s2 = s2.filter(lambda img: img.properties[\"cloud_fraction\"] <= 0.05)\n",
    "s2 = s2.pick_bands(\"nir red green\").median(axis=\"images\")\n",
    "s2.visualize(\n",
    "    \"Sentinel-2 NRG\", scales=[[0, 0.3], [0, 0.3], [0, 0.3]], checkerboard=False\n",
    ")"
   ]
  },
  {
   "cell_type": "markdown",
   "metadata": {},
   "source": [
    "## Create the `FieldNDVI` object, a custom widget defined in `field_ndvi.py`\n",
    "This is the widget that will compute the NDVI time series of your field of interest.  The date range for this time series takes on a default value but can be adjusted once you make the map below."
   ]
  },
  {
   "cell_type": "code",
   "execution_count": null,
   "metadata": {},
   "outputs": [],
   "source": [
    "ndvi_timeseries = FieldNDVI(wf.map)"
   ]
  },
  {
   "cell_type": "markdown",
   "metadata": {},
   "source": [
    "## Define the map center and zoom level.\n",
    "We choose a field in Iowa that appears to have a **winter cover crop** in early 2018 but not in early 2019."
   ]
  },
  {
   "cell_type": "code",
   "execution_count": null,
   "metadata": {},
   "outputs": [],
   "source": [
    "wf.map.center = 42.2474, -94.41329  # Iowa\n",
    "wf.map.zoom = 14"
   ]
  },
  {
   "cell_type": "markdown",
   "metadata": {},
   "source": [
    "## Finally, display and interact with the map.\n",
    "Select the polygon draw tool on the left and draw a polygon over your field of interest.  This will trigger a comptutation on the Descartes Labs `Workflows` backend to compute the mean NDVI in this field, which will then display embedded in the map."
   ]
  },
  {
   "cell_type": "code",
   "execution_count": null,
   "metadata": {},
   "outputs": [],
   "source": [
    "wf.map"
   ]
  },
  {
   "cell_type": "markdown",
   "metadata": {},
   "source": [
    "### If desired, return the NDVI time series as a pandas `dataframe`.\n",
    "You must first draw an AOI in the map above.  Then uncomment and run the line below."
   ]
  },
  {
   "cell_type": "code",
   "execution_count": null,
   "metadata": {},
   "outputs": [],
   "source": [
    "# ndvi_timeseries.df"
   ]
  }
 ],
 "metadata": {
  "kernelspec": {
   "display_name": "Python 3 + Jaspy",
   "language": "python",
   "name": "jaspy"
  },
  "language_info": {
   "codemirror_mode": {
    "name": "ipython",
    "version": 3
   },
   "file_extension": ".py",
   "mimetype": "text/x-python",
   "name": "python",
   "nbconvert_exporter": "python",
   "pygments_lexer": "ipython3",
   "version": "3.7.1"
  }
 },
 "nbformat": 4,
 "nbformat_minor": 4
}
