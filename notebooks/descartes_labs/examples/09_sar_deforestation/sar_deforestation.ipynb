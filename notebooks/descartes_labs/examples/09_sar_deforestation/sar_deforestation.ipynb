{
 "cells": [
  {
   "cell_type": "markdown",
   "metadata": {},
   "source": [
    "# Change Detection using SAR\n",
    "\n",
    "In this notebook, we explore a **method for detecting change over time** that takes advantage of Sentinel-1 SAR data available within the Descartes Labs platform and leverages `Workflows` to create and perform analysis on composites of these data. \n",
    "\n",
    "This example demonstrates the detection of **deforested areas** using Sentinel-1 data.  \n",
    "\n",
    "The cells in this notebook can be run one at a time by using `Shift-Enter`\n"
   ]
  },
  {
   "cell_type": "markdown",
   "metadata": {},
   "source": [
    "# Sentinel-1 Log Ratio for Deforestation\n",
    "\n",
    "Monitoring deforestation is crucial to understanding atmospheric carbon accumulation, biodiversity reduction and other consequences of global forest loss. Nearly half of the world's remaining forests are located in tropical areas; tropical forests also display the highest rate of deforestation [(Keenan et al, 2015)](https://www.sciencedirect.com/science/article/pii/S0378112715003400). Persistent cloud cover in the tropics makes it difficult to use optical sensors to monitor forest cover. For instance, we analyzed the cloud fraction of Sentinel-2 optical images acquired over Borneo in 2018. We found that 5740 (37%) of the 15447 Sentinel-2 scenes acquired during that period had a cloud fraction less than 50%, and only 10% of scenes have a cloud fraction less than 10%. Therefore this example demonstrates how to leverage Synthetic Aperture Radar (SAR) imagery, which is not affected by clouds, to monitor annual forest loss in South East Asia. While we introduce some general principles here, many resources are available to learn more about SAR forestry applications such as this excellent [SAR Handbook](https://servirglobal.net/Global/Articles/Article/2674/sar-handbook-comprehensive-methodologies-for-forest-monitoring-and-biomass-estimation). \n",
    "\n",
    "SAR sensors image the world by emitting electromagnetic radiation in the microwave frequencies and quantifying the portion of this signal that is reflected back towards the sensor (backscatter). Forests and dense vegetation in general tend to reflect a large portion of the signal, and therefore appear bright in SAR imagery. Bare earth, on the other hand, reflects very little radiation. Therefore, to identify deforestation we look for pixels that go from high to low brightness in SAR. A simple yet powerful change detection method for SAR data is the log-ratio, which consists of computing the difference in the log space between pairs of SAR images (see for instance [Garzelli & Zopetti 2017](https://ieeexplore.ieee.org/document/8035263)). Thus in this notebook we compute the log-ratio between a 2018 and a 2019 SAR composite over Borneo, in order to identify newly deforested areas in 2019. \n",
    "\n",
    "We chose to demonstrate this simple but powerful approach on annual composites to estimate year-over-year forest change, however the 6-12 day revisit rate of Sentinel-1 also allows for monitoring forest at a higher cadence in order to identify deforestation in near-real time. "
   ]
  },
  {
   "cell_type": "markdown",
   "metadata": {},
   "source": [
    "## Import packages"
   ]
  },
  {
   "cell_type": "code",
   "execution_count": null,
   "metadata": {},
   "outputs": [],
   "source": [
    "# keep logging quiet\n",
    "import logging\n",
    "logging.getLogger().setLevel(logging.INFO)\n",
    "logging.captureWarnings(True)"
   ]
  },
  {
   "cell_type": "code",
   "execution_count": null,
   "metadata": {},
   "outputs": [],
   "source": [
    "# import packages\n",
    "import ipywidgets \n",
    "import ipyleaflet\n",
    "import numpy as np\n",
    "import matplotlib.pyplot as plt\n",
    "import descarteslabs.workflows as wf\n",
    "from utils import FullArray, DrawControl"
   ]
  },
  {
   "cell_type": "markdown",
   "metadata": {},
   "source": [
    "## Sentinel-1 log ratio\n",
    "\n",
    "Here, we generate Sentinel-1 SAR median composites for 2018 and 2019, and create a log-ratio layer by taking the log of the ratio of these two composites. To generate a deforestation mask, we apply a threshold to the log-ratio layer.  "
   ]
  },
  {
   "cell_type": "code",
   "execution_count": null,
   "metadata": {},
   "outputs": [],
   "source": [
    "# Define & visualize Workflows ImageCollection for before & after Sentinel-1 composites\n",
    "\n",
    "# 2018 Sentinel-1 composite\n",
    "vh_2018 = (wf.ImageCollection.from_id(\"sentinel-1:GRD\",\n",
    "                            start_datetime='2018-01-01',\n",
    "                            end_datetime='2019-01-01'\n",
    "                           ).pick_bands(\n",
    "    \"vh\").median(axis='images'))\n",
    "vh_2018.visualize(\n",
    "    \"Sentinel-1 2018 composite\", colormap='Greys', scales=[[0, 0.09]])\n",
    "\n",
    "# 2019 Sentinel-1 composite\n",
    "vh_2019 = (wf.ImageCollection.from_id(\"sentinel-1:GRD\",\n",
    "                            start_datetime='2019-01-01',\n",
    "                            end_datetime='2020-01-01'\n",
    "                           ).pick_bands(\n",
    "    \"vh\").median(axis='images'))          \n",
    "vh_2019.visualize(\n",
    "    \"Sentinel-1 2019 composite\", colormap='Greys', scales=[[0, 0.09]])\n",
    "\n",
    "# Take the log of the ratio of both composites (equivalent to difference of logs)\n",
    "log_ratio = wf.log10(vh_2018 / vh_2019)\n",
    "\n",
    "# Define a threshold for the log ratio\n",
    "threshold =  0.15\n",
    "\n",
    "# Threshold the log ratio layer  \n",
    "deforestation = (log_ratio > threshold) "
   ]
  },
  {
   "cell_type": "markdown",
   "metadata": {},
   "source": [
    "# Morphological filtering\n",
    "The log-ratio methodology is inherently noisy, so here we leverage the Workflows kernel capability to apply some simple morphological filtering to the deforestation layer in order to clean up the deforestation detections."
   ]
  },
  {
   "cell_type": "code",
   "execution_count": null,
   "metadata": {},
   "outputs": [],
   "source": [
    "# Define simple functions for erosion and dilation\n",
    "\n",
    "def erode_op(map_layer, iters, kernel):\n",
    "    map_layer = ~map_layer\n",
    "    for i in range(iters):\n",
    "        map_layer = wf.conv2d(map_layer, kernel) > 0\n",
    "    map_layer = ~map_layer \n",
    "    return map_layer\n",
    "\n",
    "def dilate_op(map_layer, iters, kernel):\n",
    "    for i in range(iters):\n",
    "        map_layer = map_layer * 1.0\n",
    "        map_layer = wf.conv2d(map_layer, kernel) > 0\n",
    "    return map_layer\n",
    "\n",
    "# Define a kernel and perform one erosion followed by two dilations\n",
    "kernel = wf.Kernel(dims=(3,3), data=[0., 1., 0.,\n",
    "                                      1., 1., 1.,\n",
    "                                      0., 1., 0.])\n",
    "\n",
    "eroded = erode_op(deforestation, iters=1, kernel=kernel)\n",
    "dilated = dilate_op(eroded, iters=2, kernel=kernel)\n",
    "\n",
    "# Visualize the resulting deforestation mask\n",
    "lyr = dilated.mask(dilated==0).visualize('Deforestation', checkerboard=False, colormap='bwr')\n",
    "lyr.opacity = 0.7"
   ]
  },
  {
   "cell_type": "markdown",
   "metadata": {},
   "source": [
    "## Define custom ipywidget to visualize deforestation mask and calculate deforested acreage\n",
    "\n",
    "The FullArray call leverages the supporting utilities to enable the user to draw a polygon around an area of interest to output the size of the deforested area. The `print_acreage` function converts this to hectares and displays it next to the map. "
   ]
  },
  {
   "cell_type": "code",
   "execution_count": null,
   "metadata": {},
   "outputs": [],
   "source": [
    "# Place the center of the map in an interesting area\n",
    "center = (0.2923, 115.9698)\n",
    "\n",
    "# Initialize a workflow map\n",
    "m = wf.map.map\n",
    "m.center = center\n",
    "m.zoom = 12\n",
    "m.layout.width = '1200px'\n",
    "m.layout.height = '900'\n",
    "\n",
    "dc = DrawControl(circlemarker={}, rectangle={}, polyline={})\n",
    "wf.map.add_control(dc)\n",
    "\n",
    "# Interactively compute deforested acreage \n",
    "pixel_sum = FullArray(wf.map, variable=dilated,\n",
    "                     draw_control=dc)\n",
    "\n",
    "output = ipywidgets.Output()\n",
    "@output.capture()\n",
    "def print_acreage(*args, **kwargs):\n",
    "    # Estimate the surface area of one pixel in hectares\n",
    "    pix_size = (156543.00/2**(max(m.zoom, 0)))**2 / 10000\n",
    "    # Get the array equivalent to the polygon drawn by the user\n",
    "    d = pixel_sum.data            \n",
    "    # Compute deforested and total acreage\n",
    "    deforested = round((d==1).sum() * pix_size, 2)\n",
    "    total = round(((d==1) | (d==0)).sum() * pix_size, 2)\n",
    "    print(\"Deforested area within AOI : \\n\\n{} ha (of {} ha in total)\".format(deforested, total))\n",
    "\n",
    "# Perform the acreage computation\n",
    "dc.on_draw(print_acreage)\n",
    "\n",
    "# Print acreage in a clear button on the map in the top right corner\n",
    "output_clear_button = ipywidgets.Button(\n",
    "    description=\"Clear Output Window\", layout=ipywidgets.Layout(width=\"auto\"))\n",
    "output_clear_button.on_click(lambda b: output.clear_output())\n",
    "output_vbox = ipywidgets.VBox([output, output_clear_button])\n",
    "m.add_control(ipyleaflet.WidgetControl(widget=output_vbox, position='bottomleft'))\n",
    "\n",
    "ipywidgets.HBox([wf.map])"
   ]
  }
 ],
 "metadata": {
  "kernelspec": {
   "display_name": "Python 3",
   "language": "python",
   "name": "python3"
  },
  "language_info": {
   "codemirror_mode": {
    "name": "ipython",
    "version": 3
   },
   "file_extension": ".py",
   "mimetype": "text/x-python",
   "name": "python",
   "nbconvert_exporter": "python",
   "pygments_lexer": "ipython3",
   "version": "3.7.6"
  }
 },
 "nbformat": 4,
 "nbformat_minor": 4
}
