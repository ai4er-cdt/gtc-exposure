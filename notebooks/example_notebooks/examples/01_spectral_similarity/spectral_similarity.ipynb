{
 "cells": [
  {
   "cell_type": "markdown",
   "metadata": {},
   "source": [
    "# Spectral Similarity Tool\n",
    "In this notebook we will use Descartes Labs `Workflows` to **explore the spectral similarity of minerals** and other materials in a remote region of Argentina.  You can draw your own AOI in the map created below, and we'll find nearby areas with a similar spectral signature in infrared imagery (SWIR and NIR) from Sentinel-2.\n",
    "\n",
    "You can run the following cells using `Shift-Enter`."
   ]
  },
  {
   "cell_type": "markdown",
   "metadata": {},
   "source": [
    "## Import packages"
   ]
  },
  {
   "cell_type": "code",
   "execution_count": null,
   "metadata": {},
   "outputs": [],
   "source": [
    "# keep logging quiet\n",
    "import logging\n",
    "logging.getLogger().setLevel(logging.INFO)\n",
    "logging.captureWarnings(True)"
   ]
  },
  {
   "cell_type": "code",
   "execution_count": null,
   "metadata": {},
   "outputs": [],
   "source": [
    "# import packages\n",
    "import descarteslabs as dl\n",
    "from descarteslabs import workflows as wf\n",
    "import ipyleaflet"
   ]
  },
  {
   "cell_type": "markdown",
   "metadata": {},
   "source": [
    "## Define the Sentinel-2 imagery that we'll be using\n",
    "We will visualize two layers in the map below: a _SWIR/NIR_ layer and a _RGB_ layer.  Separately we will use _SWIR/NIR/Red_ bands to define the spectral similarity."
   ]
  },
  {
   "cell_type": "code",
   "execution_count": null,
   "metadata": {},
   "outputs": [],
   "source": [
    "# Define a Workflows ImageCollection using Sentinel-2 imagery.\n",
    "s2 = (\n",
    "    wf.ImageCollection.from_id(\"sentinel-2:L1C\",\n",
    "                                start_datetime='2019-08-25',\n",
    "                                end_datetime='2019-09-05')\n",
    "    .filter(lambda img: img.properties['cloud_fraction'] < 0.5)\n",
    "    .median(axis='images')\n",
    ")\n",
    "\n",
    "# Visualize the Red-Green-Blue bands.\n",
    "rgb = s2.pick_bands(\"red green blue\")\n",
    "rgb.visualize(\"RGB\", scales=[[0,0.4],[0,0.4],[0,0.4]])\n",
    "\n",
    "# Visualize the SWIR and NIR bands.\n",
    "swir = s2.pick_bands(\"swir2 swir1 nir\")\n",
    "swir.visualize(\"SWIR/NIR\", scales=[[0,0.6],[0,0.6],[0,0.6]])\n",
    "\n",
    "# Define SPECTRAL SIMILARITY.\n",
    "# First, here are the bands we'll use to calculate spectral similarity.\n",
    "spectral_similarity_bands = ['swir2','swir1','nir','red']\n",
    "\n",
    "# Next, define normalized band differences between these bands to be used for the actual spectral distance.\n",
    "derived_bands = [wf.normalized_difference(*s2.unpack_bands(\"{} {}\".format(b1, b2))).rename_bands(\"{}\".format(ib)) for (ib, (b1, b2)) in enumerate(zip(spectral_similarity_bands[1:], spectral_similarity_bands[:-1]))]\n",
    "band_stack = derived_bands[0]\n",
    "for db in derived_bands[1:]:\n",
    "    band_stack = band_stack.concat_bands(db)"
   ]
  },
  {
   "cell_type": "markdown",
   "metadata": {},
   "source": [
    "## Define custom ipywidget to calculate and display spectral similarity.\n",
    "This callback function calculates the mean spectrum of the AOI, calculates the spectral \"distance\" to that spectrum for all pixels in the image, and displays the spectral similarity (inverse of spectral distance) as a new layer in the map below."
   ]
  },
  {
   "cell_type": "code",
   "execution_count": null,
   "metadata": {},
   "outputs": [],
   "source": [
    "draw_control = ipyleaflet.DrawControl(\n",
    "    edit=False,\n",
    "    remove=False,\n",
    "    circlemarker={},\n",
    "    polyline={},\n",
    "    polygon={\"shapeOptions\": {\n",
    "        \"fillColor\": \"#d534eb\",\n",
    "        \"color\": \"#d534eb\",\n",
    "        \"fillOpacity\": 0.2\n",
    "    }},\n",
    "    rectangle={\"shapeOptions\": {\n",
    "        \"fillColor\": \"#d534eb\",\n",
    "        \"color\": \"#d534eb\",\n",
    "        \"fillOpacity\": 0.2\n",
    "    }}\n",
    ")\n",
    "wf.map.add_control(draw_control)\n",
    "\n",
    "@wf.map.output_log.capture()\n",
    "def callback(*args, **kwargs):\n",
    "    last_draw = draw_control.last_draw\n",
    "    if last_draw['geometry']['type'] == 'Point':\n",
    "        auger_context = wf.GeoContext.from_dltile_key(\n",
    "                    dl.raster.dltile_from_latlon(\n",
    "                        draw_control.last_draw['geometry']['coordinates'][1],\n",
    "                        draw_control.last_draw['geometry']['coordinates'][0],\n",
    "                        156543.00/2**(max(wf.map.map.zoom, 0)), 2, 0).properties.key)\n",
    "\n",
    "    elif last_draw['geometry']['type'] == 'Polygon': \n",
    "        auger_context = wf.GeoContext(\n",
    "            geometry=last_draw['geometry'],\n",
    "            resolution=156543.00/2**(max(wf.map.map.zoom, 0)),\n",
    "            crs='EPSG:3857',\n",
    "            bounds_crs='EPSG:4326',\n",
    "        )\n",
    "    reference = band_stack.median(axis='pixels').compute(auger_context)\n",
    "    \n",
    "    distance = None\n",
    "    for ib, db in enumerate(derived_bands):\n",
    "        b = \"{}\".format(ib)\n",
    "        band_data = band_stack.pick_bands(b)\n",
    "        if distance is None:\n",
    "            distance = ((band_data - reference[b])*(band_data - reference[b]))\n",
    "        else:\n",
    "            distance += ((band_data - reference[b])*(band_data - reference[b]))\n",
    "    inverse_distance = (len(spectral_similarity_bands)/wf.sqrt(distance)).rename_bands(\"distance\")\n",
    "    ly = inverse_distance.visualize(\"Spectral Similarity\", scales=[25, 35], colormap='magma')\n",
    "    ly.opacity = 0.6\n",
    "draw_control.on_draw(callback)"
   ]
  },
  {
   "cell_type": "markdown",
   "metadata": {},
   "source": [
    "## Initialize Workflows map and define Area of Interest (AOI)"
   ]
  },
  {
   "cell_type": "code",
   "execution_count": null,
   "metadata": {},
   "outputs": [],
   "source": [
    "wf.map.center = [-37.2481, -69.8514] # geology and snow in South America\n",
    "wf.map.zoom = 12"
   ]
  },
  {
   "cell_type": "markdown",
   "metadata": {},
   "source": [
    "## Finally, display and interact with the map.\n",
    "This map shows a remote area of western Argentina where some surface minerals and snow show distinctive signatures in the SWIR/NIR part of the spectrum.  You can use the polygon tool on the left side of the map to define your own AOI.  This will trigger the backend computation of spectral similarity to all pixels in this map (or anywhere in the world that you pan to).  Think of this as a quick and simple way to \"show me more pixels that look like this\"."
   ]
  },
  {
   "cell_type": "code",
   "execution_count": null,
   "metadata": {},
   "outputs": [],
   "source": [
    "wf.map"
   ]
  }
 ],
 "metadata": {
  "kernelspec": {
   "display_name": "Python 3",
   "language": "python",
   "name": "python3"
  },
  "language_info": {
   "codemirror_mode": {
    "name": "ipython",
    "version": 3
   },
   "file_extension": ".py",
   "mimetype": "text/x-python",
   "name": "python",
   "nbconvert_exporter": "python",
   "pygments_lexer": "ipython3",
   "version": "3.7.6"
  }
 },
 "nbformat": 4,
 "nbformat_minor": 4
}
