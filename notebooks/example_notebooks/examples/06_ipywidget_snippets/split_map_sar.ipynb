{
 "cells": [
  {
   "cell_type": "markdown",
   "metadata": {},
   "source": [
    "# Split Map: SAR and Optical\n",
    "This shows how to view two Descartes Labs `Workflows` layers in a split-map view.\n",
    "\n",
    "You can run the following cells using `Shift-Enter`."
   ]
  },
  {
   "cell_type": "markdown",
   "metadata": {},
   "source": [
    "## Import packages"
   ]
  },
  {
   "cell_type": "code",
   "execution_count": null,
   "metadata": {},
   "outputs": [],
   "source": [
    "# keep logging quiet\n",
    "import logging\n",
    "logging.getLogger().setLevel(logging.INFO)\n",
    "logging.captureWarnings(True)"
   ]
  },
  {
   "cell_type": "code",
   "execution_count": null,
   "metadata": {},
   "outputs": [],
   "source": [
    "# import packages\n",
    "import descarteslabs as dl\n",
    "from descarteslabs import workflows as wf\n",
    "from ipyleaflet import SplitMapControl"
   ]
  },
  {
   "cell_type": "markdown",
   "metadata": {},
   "source": [
    "## Define our two imagery layers: SAR (Sentinel-1) and RGB (Sentinel-2)"
   ]
  },
  {
   "cell_type": "code",
   "execution_count": null,
   "metadata": {},
   "outputs": [],
   "source": [
    "sar = (wf.ImageCollection.from_id(\"sentinel-1:GRD\",\n",
    "                                start_datetime='2019-10-15',\n",
    "                                end_datetime='2019-11-01')\n",
    "        .mean(axis=\"images\").pick_bands(\"vv\"))"
   ]
  },
  {
   "cell_type": "code",
   "execution_count": null,
   "metadata": {},
   "outputs": [],
   "source": [
    "rgb = (wf.ImageCollection.from_id(\"sentinel-2:L1C\",\n",
    "                                start_datetime='2019-10-01',\n",
    "                                end_datetime='2019-11-01')\n",
    "        .filter(lambda img: img.properties['cloud_fraction'] < 0.5)\n",
    "        .mean(axis=\"images\").pick_bands(\"red green blue\"))"
   ]
  },
  {
   "cell_type": "markdown",
   "metadata": {},
   "source": [
    "## Visualize these two layers with a `SplitMapControl`"
   ]
  },
  {
   "cell_type": "code",
   "execution_count": null,
   "metadata": {},
   "outputs": [],
   "source": [
    "lyr_rgb = rgb.visualize(\"RGB\", scales=[[0.0, 0.3], [0.0, 0.3], [0.0, 0.3]], checkerboard=False)\n",
    "lyr_sar = sar.visualize(\"SAR\", scales=[0.0, 0.4], colormap='viridis', checkerboard=False)\n",
    "control = SplitMapControl(left_layer=lyr_sar, right_layer=lyr_rgb)\n",
    "wf.map.add_control(control)\n"
   ]
  },
  {
   "cell_type": "markdown",
   "metadata": {},
   "source": [
    "## Choose an AOI and visualize the map"
   ]
  },
  {
   "cell_type": "code",
   "execution_count": null,
   "metadata": {},
   "outputs": [],
   "source": [
    "wf.map.center = [37.7104, -122.2143] # San Francisco Bay Area\n",
    "wf.map.zoom = 11\n",
    "wf.map"
   ]
  }
 ],
 "metadata": {
  "kernelspec": {
   "display_name": "Python 3",
   "language": "python",
   "name": "python3"
  },
  "language_info": {
   "codemirror_mode": {
    "name": "ipython",
    "version": 3
   },
   "file_extension": ".py",
   "mimetype": "text/x-python",
   "name": "python",
   "nbconvert_exporter": "python",
   "pygments_lexer": "ipython3",
   "version": "3.7.6"
  }
 },
 "nbformat": 4,
 "nbformat_minor": 4
}
