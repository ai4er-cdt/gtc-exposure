{
 "cells": [
  {
   "cell_type": "markdown",
   "metadata": {},
   "source": [
    "# Plot Widget \n",
    "Example of matplotlib plotting from draw control `on_draw` event and clearing plot using ipywidgets button and `on_click` event.\n",
    "\n",
    "You can run the following cells using `Shift-Enter`."
   ]
  },
  {
   "cell_type": "code",
   "execution_count": null,
   "metadata": {},
   "outputs": [],
   "source": [
    "# import packages\n",
    "import ipyleaflet\n",
    "import IPython\n",
    "import ipywidgets as widgets\n",
    "import matplotlib.pyplot as plt\n",
    "import numpy as np"
   ]
  },
  {
   "cell_type": "code",
   "execution_count": null,
   "metadata": {},
   "outputs": [],
   "source": [
    "class PlotExample(object):\n",
    "    def __init__(self, map_widget):\n",
    "        self.m = map_widget\n",
    "        \n",
    "        self.ax = None\n",
    "        self.fig = None\n",
    "        \n",
    "        # Setting up draw control (polygons)\n",
    "        self.draw_control = ipyleaflet.DrawControl()\n",
    "        self.draw_control.polygon = {\"shapeOptions\": {\n",
    "                    \"fillColor\": '#d534eb',\n",
    "                    \"color\": '#d534eb',\n",
    "                    \"fillOpacity\": 0.2\n",
    "                    }}\n",
    "        self.draw_control.edit = False\n",
    "        self.m.add_control(self.draw_control)\n",
    "                \n",
    "        # Setting up clear plot button control\n",
    "        self.clear_plot_control = ipyleaflet.WidgetControl(widget=widgets.Button(description='Clear plot',\n",
    "                                                                                 disabled=False,\n",
    "                                                                                 button_style='warning',\n",
    "                                                                                 tooltip='Plot and all polygons will be cleared'),\n",
    "                                                           position='topright')\n",
    "        self.m.add_control(self.clear_plot_control)\n",
    "        \n",
    "        # Setting up output for plots\n",
    "        self.fig_output = widgets.Output()\n",
    "        self.fig_widget = ipyleaflet.WidgetControl(widget=self.fig_output, position='bottomright')\n",
    "        self.m.add_control(self.fig_widget)\n",
    "        \n",
    "        # Watching for events\n",
    "        self.draw_control.on_draw(self.update_plot)\n",
    "        self.clear_plot_control.widget.on_click(self.clear_plot)\n",
    "        \n",
    "    def update_plot(self, *args, **kwargs):\n",
    "        # Check if axes object already exists. \n",
    "        # This allows us to add multiple plots to the same axes object.\n",
    "        if self.ax is None or self.fig is None:\n",
    "            fig, ax = plt.subplots(figsize=[5,4])\n",
    "            ax.cla()\n",
    "            ax.set_visible(True)\n",
    "            self.fig = fig\n",
    "            self.ax = ax\n",
    "            first_draw = True\n",
    "        else:\n",
    "            first_draw = False\n",
    "        \n",
    "        # Plot random ints\n",
    "        self.ax.scatter(np.random.randint(100, size=10), np.random.randint(100, size=10))\n",
    "        \n",
    "        # Clear fig_output if redrawing before displaying.\n",
    "        if not first_draw:\n",
    "            with self.fig_output:\n",
    "                IPython.display.clear_output()\n",
    "        \n",
    "        # Display the figure in fig_output\n",
    "        with self.fig_output:\n",
    "            IPython.display.display(self.fig)\n",
    "            \n",
    "    def clear_plot(self, *args, **kwargs):\n",
    "        # Clear draw control polygons\n",
    "        self.draw_control.clear()\n",
    "        \n",
    "        # Clear plot\n",
    "        with self.fig_output:\n",
    "            IPython.display.clear_output()\n",
    "            \n",
    "        # Clear axes and fig\n",
    "        self.ax = None\n",
    "        self.fig = None"
   ]
  },
  {
   "cell_type": "code",
   "execution_count": null,
   "metadata": {},
   "outputs": [],
   "source": [
    "map_widget = ipyleaflet.Map()\n",
    "map_widget.center = (35.679559, -105.934750)"
   ]
  },
  {
   "cell_type": "code",
   "execution_count": null,
   "metadata": {},
   "outputs": [],
   "source": [
    "plot_map = PlotExample(map_widget)"
   ]
  },
  {
   "cell_type": "code",
   "execution_count": null,
   "metadata": {},
   "outputs": [],
   "source": [
    "map_widget"
   ]
  }
 ],
 "metadata": {
  "kernelspec": {
   "display_name": "Python 3",
   "language": "python",
   "name": "python3"
  },
  "language_info": {
   "codemirror_mode": {
    "name": "ipython",
    "version": 3
   },
   "file_extension": ".py",
   "mimetype": "text/x-python",
   "name": "python",
   "nbconvert_exporter": "python",
   "pygments_lexer": "ipython3",
   "version": "3.7.6"
  }
 },
 "nbformat": 4,
 "nbformat_minor": 4
}
