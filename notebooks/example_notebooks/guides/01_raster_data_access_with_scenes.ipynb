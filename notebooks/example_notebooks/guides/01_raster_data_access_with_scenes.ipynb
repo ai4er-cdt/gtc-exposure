{
 "cells": [
  {
   "cell_type": "markdown",
   "metadata": {},
   "source": [
    "# Scenes\n",
    "__________________________________"
   ]
  },
  {
   "cell_type": "markdown",
   "metadata": {},
   "source": [
    "## Working with Scenes\n",
    "____________________________\n",
    "\n",
    "[**Scenes**](https://docs.descarteslabs.com/guides/scenes.html) is a tool in the Descartes Labs platform to search and access imagery over a wide variety of data sources. Below we show how to define an area of interest, search for imagery, download the image, and start doing analysis. First let's import the Descartes Labs library and define a place of interest.\n",
    "\n",
    "You can run the following cells using `Shift-Enter`."
   ]
  },
  {
   "cell_type": "code",
   "execution_count": null,
   "metadata": {},
   "outputs": [],
   "source": [
    "# keep logging quiet\n",
    "import logging\n",
    "logging.getLogger().setLevel(logging.INFO)\n",
    "logging.captureWarnings(True)"
   ]
  },
  {
   "cell_type": "code",
   "execution_count": null,
   "metadata": {},
   "outputs": [],
   "source": [
    "# import packages\n",
    "import descarteslabs as dl\n",
    "import numpy as np"
   ]
  },
  {
   "cell_type": "markdown",
   "metadata": {},
   "source": [
    "Our area of interest is [Folsom Lake](https://en.wikipedia.org/wiki/Folsom_Lake), a large resevoir in northern California. We can define an area of interest by specifying a [GeoJSON](https://en.wikipedia.org/wiki/GeoJSON) feature object."
   ]
  },
  {
   "cell_type": "code",
   "execution_count": null,
   "metadata": {},
   "outputs": [],
   "source": [
    "feature = {\n",
    "    \"type\":\"Feature\",\n",
    "    \"geometry\":{\n",
    "    \"type\":\"Polygon\",\n",
    "        \"coordinates\":[[\n",
    "            [-121.18599701346828, 38.693120375759946],\n",
    "            [-121.08821867639196, 38.693120375759946],\n",
    "            [-121.08821867639196, 38.77282238770522],\n",
    "            [-121.18599701346828, 38.77282238770522],\n",
    "            [-121.18599701346828, 38.693120375759946]\n",
    "        ]]\n",
    "    },\n",
    "    \"properties\": {}\n",
    "} \n",
    "fc = {\"type\": \"FeatureCollection\", \"features\": [feature], \"properties\": {}}"
   ]
  },
  {
   "cell_type": "code",
   "execution_count": null,
   "metadata": {},
   "outputs": [],
   "source": [
    "from ipyleaflet import Map, GeoJSON\n",
    "m = Map(center=(38.733120, -121.1221), zoom=12)\n",
    "m.add_layer(GeoJSON(data=fc))\n",
    "m"
   ]
  },
  {
   "cell_type": "markdown",
   "metadata": {},
   "source": [
    "If we want to find imagery over the region we can query for it using the [scenes.search](https://docs.descarteslabs.com/descarteslabs/scenes/docs/search.html) method. The search function will return a [SceneCollection](https://docs.descarteslabs.com/descarteslabs/scenes/docs/scenecollection.html) object, a collection of metadata associated with images that match our query. It also returns a [GeoContext](https://docs.descarteslabs.com/descarteslabs/scenes/docs/geocontext.html) which has metadata about the region of interest, projections, and scale."
   ]
  },
  {
   "cell_type": "code",
   "execution_count": null,
   "metadata": {},
   "outputs": [],
   "source": [
    "scenes, ctx = dl.scenes.search(\n",
    "    aoi=feature,\n",
    "    products='sentinel-2:L1C',\n",
    "    start_datetime='2019-07-31',\n",
    "    end_datetime='2019-08-05'\n",
    ")"
   ]
  },
  {
   "cell_type": "code",
   "execution_count": null,
   "metadata": {},
   "outputs": [],
   "source": [
    "scenes"
   ]
  },
  {
   "cell_type": "code",
   "execution_count": null,
   "metadata": {},
   "outputs": [],
   "source": [
    "ctx"
   ]
  },
  {
   "cell_type": "markdown",
   "metadata": {},
   "source": [
    "Individual [scenes](https://docs.descarteslabs.com/descarteslabs/scenes/docs/scene.html) in a SceneCollection can be accessed by indexing the collection just as if the data was a list. Inspecting a scene displays a detailed list of properties including information about the sensor, bands, and timestamps associated with the image. "
   ]
  },
  {
   "cell_type": "code",
   "execution_count": null,
   "metadata": {},
   "outputs": [],
   "source": [
    "scenes[0]"
   ]
  },
  {
   "cell_type": "markdown",
   "metadata": {},
   "source": [
    "We can even get individual properties from a scene under its property field, which can be accessed like an attribute or a dictionary."
   ]
  },
  {
   "cell_type": "code",
   "execution_count": null,
   "metadata": {},
   "outputs": [],
   "source": [
    "scenes[0].properties.date\n",
    "# or scenes[0].properties['date']"
   ]
  },
  {
   "cell_type": "markdown",
   "metadata": {},
   "source": [
    "Although we have just queried for matching images, we have not downloaded anything yet. Getting the pixels from any given scene is as easy as calling the [ndarray](https://docs.descarteslabs.com/descarteslabs/scenes/docs/scene.html#descarteslabs.scenes.scene.Scene.ndarray) method on a scene. The function returns an numpy array that is then ready to be used for further analysis. We need to assign a resolution to the GeoContext and choose which bands we want. "
   ]
  },
  {
   "cell_type": "code",
   "execution_count": null,
   "metadata": {},
   "outputs": [],
   "source": [
    "ctx = ctx.assign(resolution=10)"
   ]
  },
  {
   "cell_type": "code",
   "execution_count": null,
   "metadata": {},
   "outputs": [],
   "source": [
    "a = scenes[0].ndarray(\n",
    "    bands='red green blue',\n",
    "    ctx=ctx\n",
    ")"
   ]
  },
  {
   "cell_type": "code",
   "execution_count": null,
   "metadata": {},
   "outputs": [],
   "source": [
    "a.shape"
   ]
  },
  {
   "cell_type": "code",
   "execution_count": null,
   "metadata": {},
   "outputs": [],
   "source": [
    "%matplotlib inline\n",
    "dl.scenes.display(a)"
   ]
  },
  {
   "cell_type": "markdown",
   "metadata": {},
   "source": [
    "## Programmatic Data Access\n",
    "___________\n",
    "\n",
    "Scenes allows programatic access to imagery. That means we can easily specify the parameters of our images and change them with minimal work. For example, if we are interested in retrieving our imagery at a different resolutions, we can just change the matching parameter in the GeoContext. Resampling is controlled by the resampler keyword argument in the [ndarray](https://docs.descarteslabs.com/descarteslabs/scenes/docs/scene.html#descarteslabs.scenes.scene.Scene.ndarray) method, and defaults to nearest neighbors. We might be interested in downsampling our scenes when we want to access imagery over large areas of interest and we don't need the full resolution. "
   ]
  },
  {
   "cell_type": "code",
   "execution_count": null,
   "metadata": {},
   "outputs": [],
   "source": [
    "import matplotlib.pyplot as plt\n",
    "arrays = []\n",
    "resolution = [20, 200, 500]\n",
    "for res in resolution:\n",
    "    # assignment yields a new geocontext with the modified property\n",
    "    ctx = ctx.assign(resolution=res)\n",
    "    a = scenes[0].ndarray(\n",
    "        bands='red green blue',\n",
    "        ctx=ctx,\n",
    "        bands_axis=-1,\n",
    "        scaling=[(0, 2500)] * 3\n",
    "    )\n",
    "    arrays.append(a)\n",
    "    \n",
    "fig, ax = plt.subplots(1, 3, figsize=(18, 10))\n",
    "for i in range(3):\n",
    "    ax[i].imshow(arrays[i])\n",
    "    ax[i].set_title('Resolution: {}m'.format(resolution[i]))"
   ]
  },
  {
   "cell_type": "markdown",
   "metadata": {},
   "source": [
    "We can also pull our imagery with different band combinations. We can find the list of bands under the `properties.bands` field of each scene. In this case we can see that the Sentinel-2 satellite has a wide variety of visual, infrared, and thermal bands. "
   ]
  },
  {
   "cell_type": "code",
   "execution_count": null,
   "metadata": {},
   "outputs": [],
   "source": [
    "# print available bands for this scene:\n",
    "scenes[0].properties.bands.keys()"
   ]
  },
  {
   "cell_type": "markdown",
   "metadata": {},
   "source": [
    "Let's visualize a few band combinations. The most familiar is the visual red, green, blue bands. Near infrared, *nir*, is often used to identify vegetation. Finally the thermal bands *swir1* and *swir2* are often used to identify hotspots such as wildfires or flares. "
   ]
  },
  {
   "cell_type": "code",
   "execution_count": null,
   "metadata": {},
   "outputs": [],
   "source": [
    "arrays = []\n",
    "ctx = ctx.assign(resolution=20)\n",
    "bands = ['red green blue', 'nir red green', 'swir1 swir2 nir']\n",
    "for b in bands:\n",
    "    a = scenes[0].ndarray(\n",
    "        bands=b,\n",
    "        ctx=ctx,\n",
    "        bands_axis=-1,\n",
    "        scaling=[(0, 2500)] * 3\n",
    "    )\n",
    "    arrays.append(a)\n",
    "    \n",
    "fig, ax = plt.subplots(1, 3, figsize=(18, 10))\n",
    "for i in range(3):\n",
    "    ax[i].set_title('Bands: {}'.format(bands[i]))\n",
    "    ax[i].imshow(arrays[i])"
   ]
  },
  {
   "cell_type": "markdown",
   "metadata": {},
   "source": [
    "Finally, let's look at the same scene, but over a couple of different sensors. Each satellite has different types of sensors for different types of analysis."
   ]
  },
  {
   "cell_type": "code",
   "execution_count": null,
   "metadata": {},
   "outputs": [],
   "source": [
    "fig, ax = plt.subplots(1, 3, figsize=(18, 10))\n",
    "products = ['sentinel-2:L1C', 'landsat:LC08:01:T1:TOAR', 'sentinel-1:GRD']\n",
    "bands = ['red green blue', 'swir1 swir2 nir', 'vv vh vv']\n",
    "scaling = [[(0, 2500)] * 3, [(0, 5000)] * 3, None]\n",
    "for i in range(3):\n",
    "    s, ctx = dl.scenes.search(feature, products[i], start_datetime='2018-06-01', end_datetime='2018-06-30')\n",
    "    ctx = ctx.assign(resolution=10)\n",
    "    ax[i].imshow(s.mosaic(bands=bands[i], ctx=ctx, bands_axis=-1, scaling=scaling[i]))\n",
    "    ax[i].set_title(products[i])"
   ]
  },
  {
   "cell_type": "markdown",
   "metadata": {},
   "source": [
    "One of the strengths of Scenes is that it is very easy to retrieve a wide variety of spatial data from dozens of sources."
   ]
  },
  {
   "cell_type": "markdown",
   "metadata": {},
   "source": [
    "## Wrap Up\n",
    "__________________\n",
    "\n",
    "In this notebook we have implemented a simple water masking algorithm. In the process we have:\n",
    "\n",
    "* Used [scenes.search](https://docs.descarteslabs.com/descarteslabs/scenes/docs/search.html) to find matching images over a region of interest.\n",
    "* Used [scenes.ndarray](https://docs.descarteslabs.com/descarteslabs/scenes/docs/scene.html#descarteslabs.scenes.scene.Scene.ndarray) to get the pixels for any given scene.\n",
    "* Access scenes with a wide variety of parameters on the fly."
   ]
  },
  {
   "cell_type": "markdown",
   "metadata": {},
   "source": [
    "## Resources\n",
    "________________________\n",
    "\n",
    "[1] [Sentinel-2 product](https://catalog.descarteslabs.com/?/product/sentinel-2:L1C)\n",
    "\n",
    "[2] [Scenes API Documentation](https://docs.descarteslabs.com/descarteslabs/scenes/readme.html)\n"
   ]
  }
 ],
 "metadata": {
  "kernelspec": {
   "display_name": "Python 3",
   "language": "python",
   "name": "python3"
  },
  "language_info": {
   "codemirror_mode": {
    "name": "ipython",
    "version": 3
   },
   "file_extension": ".py",
   "mimetype": "text/x-python",
   "name": "python",
   "nbconvert_exporter": "python",
   "pygments_lexer": "ipython3",
   "version": "3.7.4"
  },
  "nteract": {
   "version": "0.12.3"
  }
 },
 "nbformat": 4,
 "nbformat_minor": 4
}
