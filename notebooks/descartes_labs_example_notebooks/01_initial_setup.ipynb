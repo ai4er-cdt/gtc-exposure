{
 "cells": [
  {
   "cell_type": "markdown",
   "metadata": {},
   "source": [
    "# Initial Setup\n",
    "\n",
    "Welcome to the Descartes Labs Workbench!\n",
    "\n",
    "This notebook will walk you through a one-time initialization step: we need to add your credentials to this jupyterlab environment so that you can access the Descartes Labs APIs. Run the following cells using `Shift-Enter`. This only needs to be done once. Next time you log in, you will not need to repeat these steps."
   ]
  },
  {
   "cell_type": "markdown",
   "metadata": {},
   "source": [
    "### 1) Log in to [IAM](https://iam.descarteslabs.com/auth/login?refresh_token=true&destination=/auth/refresh_token) with your social/Google login or username/password."
   ]
  },
  {
   "cell_type": "markdown",
   "metadata": {},
   "source": [
    "### 2) Copy the token from IAM.  Make sure to include all characters including any trailing \"=\"."
   ]
  },
  {
   "cell_type": "markdown",
   "metadata": {},
   "source": [
    "### 3) Run the next cell with `Shift-Enter`, paste the token into the box that appears, and press `Enter`."
   ]
  },
  {
   "cell_type": "code",
   "execution_count": null,
   "metadata": {},
   "outputs": [],
   "source": [
    "import descarteslabs as dl; import os\n",
    "token_info_path = dl.client.auth.auth.DEFAULT_TOKEN_INFO_PATH\n",
    "temp_token_info_path = token_info_path + \".tmp\"\n",
    "token_info_dir = os.path.dirname(token_info_path); \n",
    "dl.client.auth.auth.makedirs_if_not_exists(token_info_dir)\n",
    "try: \n",
    "    with open(temp_token_info_path, \"w\") as f:\n",
    "        f.write(dl.client.auth.auth.base64url_decode(input()).decode(\"utf-8\"))\n",
    "    print(\"\\n Logged in as {}\".format(dl.Auth(token_info_path=temp_token_info_path).payload['name']))\n",
    "    os.replace(temp_token_info_path, token_info_path)\n",
    "except:\n",
    "    os.remove(temp_token_info_path)\n",
    "    print('''\\n Invalid token.  Please make sure that you haven't accidentally added any whitespace to the token, \n",
    "    and that you have included any trailing '=' characters in the token. If you're still having issues\n",
    "    authenticating, please contact support@descarteslabscom.''')"
   ]
  },
  {
   "cell_type": "markdown",
   "metadata": {},
   "source": [
    "### 4) Confirmation\n",
    "If this was successful, you should see \"Logged in as [Your Name]\" after running the commands above.  You will not need to repeat these steps the next time you log in.  If you are having any issues logging in, support is available at support@descarteslabs.com."
   ]
  },
  {
   "cell_type": "markdown",
   "metadata": {},
   "source": [
    "## Next Steps\n",
    "From here, you may want to:\n",
    "- check out the [Getting Started notebook](./02_getting_started.ipynb).\n",
    "- explore many more **notebooks** in the `guides` and `examples` directories in the file browser on the left.\n",
    "- view the Descartes Labs [API documentation](https://docs.descarteslabs.com)."
   ]
  }
 ],
 "metadata": {
  "kernelspec": {
   "display_name": "Python 3",
   "language": "python",
   "name": "python3"
  },
  "language_info": {
   "codemirror_mode": {
    "name": "ipython",
    "version": 3
   },
   "file_extension": ".py",
   "mimetype": "text/x-python",
   "name": "python",
   "nbconvert_exporter": "python",
   "pygments_lexer": "ipython3",
   "version": "3.7.8"
  }
 },
 "nbformat": 4,
 "nbformat_minor": 4
}
