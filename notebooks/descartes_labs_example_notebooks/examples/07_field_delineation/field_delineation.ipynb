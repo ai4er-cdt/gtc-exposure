{
 "cells": [
  {
   "cell_type": "markdown",
   "metadata": {},
   "source": [
    "# Field Delineation\n",
    "\n",
    "In this notebook, we will explore a **method for field delineation** that takes advantage of the kernel functionality within Descartes Labs `Workflows`. Edges in Sentinel-2 imagery are extracted, thresholded, and processed with morphological processing. A region on the map can be selected to output further refined polygons from the underlying raster of the segmented fields.  \n",
    "\n",
    "You can run the cells in this notebook one at a time by using `Shift-Enter`"
   ]
  },
  {
   "cell_type": "markdown",
   "metadata": {},
   "source": [
    "## Import packages"
   ]
  },
  {
   "cell_type": "code",
   "execution_count": null,
   "metadata": {},
   "outputs": [],
   "source": [
    "# keep logging quiet\n",
    "import logging\n",
    "logging.getLogger().setLevel(logging.INFO)\n",
    "logging.captureWarnings(True)"
   ]
  },
  {
   "cell_type": "code",
   "execution_count": null,
   "metadata": {},
   "outputs": [],
   "source": [
    "# import packages \n",
    "import descarteslabs.workflows as wf\n",
    "from descarteslabs.workflows import Kernel, conv2d, sqrt\n",
    "\n",
    "from utils import FieldMap"
   ]
  },
  {
   "cell_type": "markdown",
   "metadata": {},
   "source": [
    "## Create a Sentinel-2 Composite\n",
    "Here we use Descartes Labs `Workflows` to create median composite image."
   ]
  },
  {
   "cell_type": "code",
   "execution_count": null,
   "metadata": {},
   "outputs": [],
   "source": [
    "img_col = wf.ImageCollection.from_id(\"sentinel-2:L1C\", start_datetime=\"2019-06-01\", end_datetime=\"2019-09-30\")\n",
    "rgb = img_col.pick_bands(\"red green blue\")\n",
    "\n",
    "nir, red = img_col.unpack_bands(\"nir red\")\n",
    "ndvi = wf.normalized_difference(nir, red)\n",
    "\n",
    "composite = rgb.median(axis=\"images\")\n",
    "composite.visualize(\"Sentinel-2 Composite\")"
   ]
  },
  {
   "cell_type": "markdown",
   "metadata": {},
   "source": [
    "## Define functions for image processing with kernels"
   ]
  },
  {
   "cell_type": "code",
   "execution_count": null,
   "metadata": {},
   "outputs": [],
   "source": [
    "def dx_kernel(size):\n",
    "    return Kernel(dims=(size, size), data=[1.0, 0.0, -1.0, 2.0, 0.0, -2.0, 1.0, 0.0, -1.0])\n",
    "\n",
    "def dy_kernel(size):\n",
    "    return Kernel(dims=(size, size), data=[1.0, 2.0, 1.0, 0.0, 0.0, 0.0, -1.0, -2.0, -1.0])\n",
    "    \n",
    "def dilate_op(map_layer, iters, kernel, layer_name, visualize=False):\n",
    "    for i in range(iters):\n",
    "        map_layer = map_layer * 1.0\n",
    "        map_layer = wf.conv2d(map_layer, kernel) > 0\n",
    "    if visualize:\n",
    "        map_layer.visualize(layer_name, scales=[(0, 1)], colormap=\"plasma\")\n",
    "    return map_layer\n",
    "\n",
    "def erode_op(map_layer, iters, kernel, layer_name, visualize=False):\n",
    "    map_layer = ~map_layer\n",
    "    for i in range(iters):\n",
    "        map_layer = wf.conv2d(map_layer, kernel) > 0\n",
    "    map_layer = ~map_layer\n",
    "    if visualize:\n",
    "        map_layer.visualize(layer_name, scales=[(0, 1)], colormap=\"plasma\")\n",
    "    return map_layer"
   ]
  },
  {
   "cell_type": "markdown",
   "metadata": {},
   "source": [
    "## Extract edges with Sobel kernels"
   ]
  },
  {
   "cell_type": "code",
   "execution_count": null,
   "metadata": {},
   "outputs": [],
   "source": [
    "# Define edge kernels\n",
    "xder_kernel = dx_kernel(size=3)\n",
    "yder_kernel = dy_kernel(size=3)\n",
    "\n",
    "# Make edge images\n",
    "x_edges = conv2d(composite, xder_kernel)\n",
    "y_edges = conv2d(composite, yder_kernel)\n",
    "\n",
    "# Get the gradient magnitude of the edges\n",
    "mag = sqrt(x_edges**2 + y_edges**2)\n",
    "mag = mag.max(axis=\"bands\")\n",
    "mag.visualize(\"Gradient Magnitude\")\n",
    "\n",
    "# Threshold edges\n",
    "mag_thresh = mag > 0.08\n",
    "mag_thresh.visualize(\"Thresholded Edges\", colormap=\"Greens\")"
   ]
  },
  {
   "cell_type": "markdown",
   "metadata": {},
   "source": [
    "## Use morphological processing (dilation + erosion) to clean up fields"
   ]
  },
  {
   "cell_type": "code",
   "execution_count": null,
   "metadata": {},
   "outputs": [],
   "source": [
    "# Dilate and erode to clean up edges\n",
    "kernel = wf.Kernel(dims=(3,3), data=[0., 1., 0.,\n",
    "                                      1., 1., 1.,\n",
    "                                      0., 1., 0.])\n",
    "\n",
    "dilated = dilate_op(mag_thresh, iters=2, kernel=kernel, layer_name='dilation', visualize=False)\n",
    "eroded = erode_op(dilated, iters=2, kernel=kernel, layer_name='erosion', visualize=False)\n",
    "\n",
    "fields = 1.0*(~eroded)\n",
    "fields.visualize(\"Initial Fields\", colormap=\"Greens\")"
   ]
  },
  {
   "cell_type": "markdown",
   "metadata": {},
   "source": [
    "## Get refined field polygons\n",
    "**Using the draw control on the map below,** draw a rectangle over an area of interest. The fields within the selected region will be cleaned, vectorized, and dispayed on the map."
   ]
  },
  {
   "cell_type": "code",
   "execution_count": null,
   "metadata": {},
   "outputs": [],
   "source": [
    "# Show the ipyleaflet map\n",
    "field_map = FieldMap(wf.map)\n",
    "field_map.fields = fields\n",
    "\n",
    "field_map.m.center = (36.5698, -120.0924)\n",
    "field_map.m.zoom = 13\n",
    "field_map.m"
   ]
  },
  {
   "cell_type": "markdown",
   "metadata": {},
   "source": [
    "## Access and Export Field Polygons\n",
    "Field geometries can be accessed as a `GeoDataFrame` by uncommenting the line below.\n",
    "\n",
    "Alternatively, click the **Export GeoJSON button on the map** to export the vectorized fields into a GeoJSON file that is saved in the working directory."
   ]
  },
  {
   "cell_type": "code",
   "execution_count": null,
   "metadata": {},
   "outputs": [],
   "source": [
    "#field_map.fields_df.head()"
   ]
  }
 ],
 "metadata": {
  "kernelspec": {
   "display_name": "Python 3",
   "language": "python",
   "name": "python3"
  },
  "language_info": {
   "codemirror_mode": {
    "name": "ipython",
    "version": 3
   },
   "file_extension": ".py",
   "mimetype": "text/x-python",
   "name": "python",
   "nbconvert_exporter": "python",
   "pygments_lexer": "ipython3",
   "version": "3.7.6"
  }
 },
 "nbformat": 4,
 "nbformat_minor": 4
}
