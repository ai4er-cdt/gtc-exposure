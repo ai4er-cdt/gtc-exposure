{
 "cells": [
  {
   "cell_type": "markdown",
   "metadata": {},
   "source": [
    "# Crop Health Analysis 2019\n",
    "\n",
    "In 2019, the US Midwest was impacted by significant and prolonged rainfall, delaying the planting of corn, soybeans, and other summer crops.  In this notebook we will use Descartes Labs `Workflows` to investigate the impact on overall crop production.\n",
    "\n",
    "You can run the following cells using `Shift-Enter`."
   ]
  },
  {
   "cell_type": "markdown",
   "metadata": {},
   "source": [
    "## Import packages"
   ]
  },
  {
   "cell_type": "code",
   "execution_count": null,
   "metadata": {},
   "outputs": [],
   "source": [
    "# keep logging quiet\n",
    "import logging\n",
    "logging.getLogger().setLevel(logging.INFO)\n",
    "logging.captureWarnings(True)"
   ]
  },
  {
   "cell_type": "code",
   "execution_count": null,
   "metadata": {},
   "outputs": [],
   "source": [
    "# import packages\n",
    "from descarteslabs import workflows as wf\n",
    "import IPython\n",
    "import ipyleaflet\n",
    "import ipywidgets\n",
    "import arrow\n",
    "import matplotlib.pyplot as plt\n",
    "%matplotlib inline"
   ]
  },
  {
   "cell_type": "markdown",
   "metadata": {},
   "source": [
    "## Visualizing crop health\n",
    "When crops such as corn and soybeans are healthy and growing, they tend to heavily absorb red light used for photosynthesis. At the same time, they tend to reflect near-infrared light which would otherwise heat the plant to too high of a temperature. Because of this, agronomists tend to measure what they call the normalized difference vegetation index, or NDVI. This is defined by the ratio of (near-infrared - red) / (near-infrared + red), which is a nice quantity because it is bounded by `-1 <= NDVI <= 1`.\n",
    "\n",
    "As part of the Descartes Labs Data Refinery, incoming daily measurements by the MODIS instrument on the Aqua and Terra satellites from NASA capture the relative strength of the red and near-infrared wavelengths. However, because clouds tend to obscure an average of 30-40% of the Earth's landmass every day, it can be difficult to get a clear shot. Below is shown 2 days of MODIS visual (red-green-blue) and NDVI."
   ]
  },
  {
   "cell_type": "code",
   "execution_count": null,
   "metadata": {},
   "outputs": [],
   "source": [
    "# Define Red-Green-Blue imagery from MODIS.\n",
    "# In these few lines of code below, we've abstracted searching a Petascale dataset, rasterizing the matching imagery from\n",
    "# that dataset, picking bands, scales, etc, and creating a visualization that you can interactively explore.\n",
    "\n",
    "(\n",
    "    wf.ImageCollection.from_id(\n",
    "        \"modis:09:v2\", start_datetime=\"2019-06-01\", end_datetime=\"2019-06-03\"\n",
    "    )\n",
    "    .pick_bands(\"red green blue\")\n",
    "    .mean(axis=\"images\")\n",
    "    .visualize(\"MODIS RGB\", scales=[[0, 0.4], [0, 0.4], [0, 0.4]])\n",
    ")\n",
    "wf.map.center = 40.5, -88.5\n",
    "wf.map.zoom = 7\n",
    "# layer_controller = wf.interactive.LayerController(wf.map.map, position='bottomleft')\n",
    "wf.map.layout.height = \"800px\"\n",
    "wf.map"
   ]
  },
  {
   "cell_type": "markdown",
   "metadata": {},
   "source": [
    "## Data Refinement\n",
    "To counteract the clouds, we use the MOD13Q1 data product from NOAA: the maximum MODIS NDVI over a 16-day window.  In the next set of maps we show the raw NDVI values, in which we can clearly see the contamination from clouds / shadows. Our refined maximum-NDVI data product displays a cloud-free quantity that can now be input to machine learning models.\n",
    "\n",
    "As we run the commands below, these new imagery layers will appear in the map above.  You can always create a new instance of this interactive map by executing the command `wf.map` in this notebook."
   ]
  },
  {
   "cell_type": "code",
   "execution_count": null,
   "metadata": {},
   "outputs": [],
   "source": [
    "# Define Raw NDVI from 2019\n",
    "(\n",
    "    wf.ImageCollection.from_id(\n",
    "        \"modis:09:v2\", start_datetime=\"2019-06-01\", end_datetime=\"2019-06-03\"\n",
    "    )\n",
    "    .pick_bands(\"ndvi\")\n",
    "    .mean(axis=\"images\")\n",
    ").visualize(\"2019 Raw NDVI\", scales=[[0, 1]], colormap=\"RdYlGn\")"
   ]
  },
  {
   "cell_type": "code",
   "execution_count": null,
   "metadata": {},
   "outputs": [],
   "source": [
    "# Define Refined NDVI from 2019\n",
    "ndvi_2019 = (\n",
    "    wf.ImageCollection.from_id(\n",
    "        \"modis:mod13q1:006\", start_datetime=\"2019-06-09\", end_datetime=\"2019-06-11\"\n",
    "    )\n",
    "    .pick_bands(\"ndvi\")\n",
    "    .mean(axis=\"images\")\n",
    ")\n",
    "ndvi_2019.visualize(\"2019 Refined NDVI\", scales=[[0, 1]], colormap=\"RdYlGn\")"
   ]
  },
  {
   "cell_type": "markdown",
   "metadata": {},
   "source": [
    "### If we now compare to 2018...\n",
    "The only parameter we have to change here is the start day of the 16-day window, now 2018-06-09."
   ]
  },
  {
   "cell_type": "code",
   "execution_count": null,
   "metadata": {},
   "outputs": [],
   "source": [
    "# Define Refined NDVI from 2018\n",
    "ndvi_2018 = (\n",
    "    wf.ImageCollection.from_id(\n",
    "        \"modis:mod13q1:006\", start_datetime=\"2018-06-09\", end_datetime=\"2018-06-11\"\n",
    "    )\n",
    "    .pick_bands(\"ndvi\")\n",
    "    .mean(axis=\"images\")\n",
    ")\n",
    "ndvi_2018.visualize(\"2018 Refined NDVI\", scales=[[0, 1]], colormap=\"RdYlGn\")"
   ]
  },
  {
   "cell_type": "markdown",
   "metadata": {},
   "source": [
    "### Derived layers\n",
    "\n",
    "While these first sets of visualizations are simply displaying data that exists in the platform, we can also create derived layers on the fly. Here we can create the difference between 2019 and 2018. Blue areas are healthier in 2019, while brown areas are less healthy in 2019.  The effects of a prolonged wet spring in 2019 are clear throughout the midwest."
   ]
  },
  {
   "cell_type": "code",
   "execution_count": null,
   "metadata": {},
   "outputs": [],
   "source": [
    "# Define the difference between Refined NDVI in 2019 and 2018\n",
    "(ndvi_2019 - ndvi_2018).visualize(\n",
    "    \"NDVI Delta, 2019-2018\", scales=[[-0.5, 0.5]], colormap=\"BrBG\"\n",
    ")"
   ]
  },
  {
   "cell_type": "markdown",
   "metadata": {},
   "source": [
    "### Explore crop health interactively\n",
    "\n",
    "Below we will define a custom ipywidget, `Auger`, that will allow us to draw an AOI in the map and then view the NDVI time series for that AOI in 2018 and 2019.  You can draw the AOI using the box-draw tool on the left side of the map.  This triggers a computation of historical NDVI using the Descartes Labs `Workflows` backend."
   ]
  },
  {
   "cell_type": "code",
   "execution_count": null,
   "metadata": {},
   "outputs": [],
   "source": [
    "from utils import Auger\n",
    "\n",
    "ndvi_timeseries = Auger(\n",
    "    wf.map,\n",
    "    variable=wf.ImageCollection.from_id(\n",
    "        \"modis:mod13q1:006\", start_datetime=\"2018-01-01\", end_datetime=\"2020-01-01\"\n",
    "    ).pick_bands(\"ndvi\"),\n",
    ")\n",
    "\n",
    "fig_output = ipywidgets.Output()\n",
    "fig_widget = ipyleaflet.WidgetControl(widget=fig_output, position=\"bottomright\")\n",
    "wf.map.add_control(fig_widget)\n",
    "\n",
    "\n",
    "@wf.map.output_log.capture(clear_output=True)\n",
    "def do_plot(*args, **kwargs):\n",
    "    fig, ax = plt.subplots(figsize=[6, 6])\n",
    "    ax.cla()\n",
    "    ax.set_visible(True)\n",
    "    df = ndvi_timeseries.df\n",
    "    df[\"ndvi\"] = df[\"ndvi\"].astype(\"float\")\n",
    "    df[\"doy\"] = df.apply(lambda row: row.dates.dayofyear, axis=1)\n",
    "    df[\"year\"] = df.apply(lambda row: row.dates.year, axis=1)\n",
    "    for yr in df[\"year\"].unique():\n",
    "        _ = df[df[\"year\"] == yr].plot(\"doy\", \"ndvi\", ax=ax, label=\"{}\".format(yr))\n",
    "    _ = ax.set_xlabel(\"Day-of-year\")\n",
    "    _ = ax.set_ylabel(\"NDVI\")\n",
    "    _ = ax.set_xlim(120, 300)\n",
    "\n",
    "    with fig_output:\n",
    "        IPython.display.display(fig)\n",
    "\n",
    "    return \"\"\n",
    "\n",
    "\n",
    "ndvi_timeseries.draw_control.on_draw(do_plot)"
   ]
  },
  {
   "cell_type": "markdown",
   "metadata": {},
   "source": [
    "### If desired, return the NDVI time series as a pandas `dataframe`.\n",
    "You must first draw an AOI in the map above.  Then uncomment and run the line below."
   ]
  },
  {
   "cell_type": "code",
   "execution_count": null,
   "metadata": {},
   "outputs": [],
   "source": [
    "# ndvi_timeseries.df"
   ]
  }
 ],
 "metadata": {
  "kernelspec": {
   "display_name": "Python 3",
   "language": "python",
   "name": "python3"
  },
  "language_info": {
   "codemirror_mode": {
    "name": "ipython",
    "version": 3
   },
   "file_extension": ".py",
   "mimetype": "text/x-python",
   "name": "python",
   "nbconvert_exporter": "python",
   "pygments_lexer": "ipython3",
   "version": "3.7.7"
  }
 },
 "nbformat": 4,
 "nbformat_minor": 4
}
